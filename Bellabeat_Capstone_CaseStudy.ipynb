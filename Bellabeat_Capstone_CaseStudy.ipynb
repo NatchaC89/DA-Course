{
 "cells": [
  {
   "cell_type": "markdown",
   "id": "608c6453",
   "metadata": {},
   "source": [
    "# 1. Introduction"
   ]
  },
  {
   "cell_type": "markdown",
   "id": "8a82a673",
   "metadata": {},
   "source": [
    "This case study is one part of capstone from DA course. There are 3 topics to choose and I choose the Bellabeat dataset to do analyze and find something behind this dataset. The Bellabeat is a high-tech manufacturer of health-focused products for women. I as a junior data analyst has been asked to analyze smart device data to gain insight into how consumers are using their smart devices. "
   ]
  },
  {
   "cell_type": "markdown",
   "id": "e86fa13e",
   "metadata": {},
   "source": [
    "# 2. Data analysist phase"
   ]
  },
  {
   "cell_type": "markdown",
   "id": "ce70c12f",
   "metadata": {},
   "source": [
    "## 2.1 Ask"
   ]
  },
  {
   "cell_type": "markdown",
   "id": "610268a5",
   "metadata": {},
   "source": [
    "### **2.1.1 Stakeholder**"
   ]
  },
  {
   "cell_type": "markdown",
   "id": "df734e34",
   "metadata": {},
   "source": [
    " - **1. Urška Sršen:** Bellabeat’s cofounder and Chief Creative Officer \n",
    " - **2. Sando Mur:** Mathematician and Bellabeat’s cofounder; key member of the Bellabeat executive team\n",
    " - **3. Bellabeat marketing analytics team:** A team of data analysts responsible for collecting, analyzing, and\n",
    "reporting data that helps guide Bellabeat’s marketing strategy"
   ]
  },
  {
   "cell_type": "markdown",
   "id": "b561da0d",
   "metadata": {},
   "source": [
    "### **2.1.2 Business task**"
   ]
  },
  {
   "cell_type": "markdown",
   "id": "45ad8224",
   "metadata": {},
   "source": [
    "The stakeholder asks you to analyze smart device usage data in order to gain insight into how consumers use non-Bellabeat smart\n",
    "devices. She then wants you to select one Bellabeat product to apply these insights to in your presentation. These questions\n",
    "will guide your analysis:\n",
    "1. What are some trends in smart device usage?\n",
    "2. How could these trends apply to Bellabeat customers?\n",
    "3. How could these trends help influence Bellabeat marketing strategy?"
   ]
  },
  {
   "cell_type": "markdown",
   "id": "a2c8d384",
   "metadata": {},
   "source": [
    "## 2.2 Prepare"
   ]
  },
  {
   "cell_type": "markdown",
   "id": "56c8d9bf",
   "metadata": {},
   "source": [
    "### 2.2.1 About data"
   ]
  },
  {
   "cell_type": "markdown",
   "id": "868d72d7",
   "metadata": {},
   "source": [
    "**FitBit Fitness Tracker Data (CC0: Public Domain, dataset made available through Mobius):** This Kaggle data set\n",
    "contains personal fitness tracker from thirty fitbit users. Thirty eligible Fitbit users consented to the submission of\n",
    "personal tracker data, including minute-level output for physical activity, heart rate, and sleep monitoring. It includes\n",
    "information about daily activity, steps, and heart rate that can be used to explore users’ habits."
   ]
  },
  {
   "cell_type": "markdown",
   "id": "e808db1e",
   "metadata": {},
   "source": [
    "**Generated** between 12 April 2016 to 12 May 2016. The habbit of user might be change."
   ]
  },
  {
   "cell_type": "markdown",
   "id": "5a532e0b",
   "metadata": {},
   "source": [
    "**30 sample size** cannot represent the whole female health activities"
   ]
  },
  {
   "cell_type": "markdown",
   "id": "d7ae9b59",
   "metadata": {},
   "source": [
    "### 2.2.2 Is data ROCC?"
   ]
  },
  {
   "cell_type": "markdown",
   "id": "9e1ce7f0",
   "metadata": {},
   "source": [
    "The good data source should be ROCC which stand for **R**eliable, **O**riginal, **C**omprehensive, **C**urrent, and **C**ited.\n",
    "1. Reliable - This dataset is not reliable since it has only 30 sample - LOW\n",
    "2. Original - This dataset come from third party (MÖBIUS) - LOW\n",
    "3. Comprehensive - The given parameter from this dataset quite match to Bellabeat's product - MED\n",
    "4. Current - This dataset is quite old, around 7 years ago - LOW\n",
    "5. Cited - This data collect from third party and don't know who they are - LOW\n",
    "<br>\n",
    "<br>\n",
    "This dataset is quite low quality and it is not recommendation for bussiness strategy but for training part is enough "
   ]
  },
  {
   "cell_type": "markdown",
   "id": "dcba08ae",
   "metadata": {},
   "source": [
    "### 2.2.3  Data selection"
   ]
  },
  {
   "cell_type": "markdown",
   "id": "8ee15034",
   "metadata": {},
   "source": [
    "I choose only 5 files of 18 files from entire dataset\n",
    "- \"dailyActivity_merged.csv\"\n",
    "- \"hourlyCalories_merged.csv\"\n",
    "- \"hourlyIntensitites_merged.csv\"\n",
    "- \"hourlySteps_merged.csv\"\n",
    "- \"sleepDay_merged.csv\"<br><br>\n",
    "The rest files will not be used since they have small sample size and some duplicate columns"
   ]
  },
  {
   "cell_type": "markdown",
   "id": "09844fe4",
   "metadata": {},
   "source": [
    "## 2.3 Process "
   ]
  },
  {
   "cell_type": "markdown",
   "id": "d08abb4f",
   "metadata": {},
   "source": [
    "- Loading the package "
   ]
  },
  {
   "cell_type": "code",
   "execution_count": 1,
   "id": "4e52394e",
   "metadata": {},
   "outputs": [
    {
     "name": "stderr",
     "output_type": "stream",
     "text": [
      "Registered S3 methods overwritten by 'ggplot2':\n",
      "  method         from \n",
      "  [.quosures     rlang\n",
      "  c.quosures     rlang\n",
      "  print.quosures rlang\n",
      "Registered S3 method overwritten by 'rvest':\n",
      "  method            from\n",
      "  read_xml.response xml2\n",
      "-- Attaching packages --------------------------------------- tidyverse 1.2.1 --\n",
      "<U+221A> ggplot2 3.1.1       <U+221A> purrr   0.3.2  \n",
      "<U+221A> tibble  2.1.1       <U+221A> dplyr   0.8.0.1\n",
      "<U+221A> tidyr   0.8.3       <U+221A> stringr 1.4.0  \n",
      "<U+221A> readr   1.3.1       <U+221A> forcats 0.4.0  \n",
      "-- Conflicts ------------------------------------------ tidyverse_conflicts() --\n",
      "x dplyr::filter() masks stats::filter()\n",
      "x dplyr::lag()    masks stats::lag()\n",
      "\n",
      "Attaching package: 'lubridate'\n",
      "\n",
      "The following object is masked from 'package:base':\n",
      "\n",
      "    date\n",
      "\n",
      "Loading required package: viridisLite\n"
     ]
    }
   ],
   "source": [
    "library(tidyverse)\n",
    "library(lubridate)\n",
    "library(dplyr)\n",
    "library(tidyr)\n",
    "library(ggplot2)\n",
    "library(viridis)\n",
    "library(repr)"
   ]
  },
  {
   "cell_type": "code",
   "execution_count": 2,
   "id": "e706307d",
   "metadata": {},
   "outputs": [
    {
     "data": {
      "text/html": [
       "'English_United States.1252'"
      ],
      "text/latex": [
       "'English\\_United States.1252'"
      ],
      "text/markdown": [
       "'English_United States.1252'"
      ],
      "text/plain": [
       "[1] \"English_United States.1252\""
      ]
     },
     "metadata": {},
     "output_type": "display_data"
    }
   ],
   "source": [
    "# To prevent day of week show in local language\n",
    "Sys.setlocale(\"LC_TIME\", \"English\")"
   ]
  },
  {
   "cell_type": "markdown",
   "id": "4b0c1f3d",
   "metadata": {},
   "source": [
    "- Loadind .csv data and create dataframe "
   ]
  },
  {
   "cell_type": "code",
   "execution_count": 3,
   "id": "09231f0d",
   "metadata": {},
   "outputs": [
    {
     "name": "stderr",
     "output_type": "stream",
     "text": [
      "Parsed with column specification:\n",
      "cols(\n",
      "  Id = col_double(),\n",
      "  ActivityDate = col_character(),\n",
      "  TotalSteps = col_double(),\n",
      "  TotalDistance = col_double(),\n",
      "  TrackerDistance = col_double(),\n",
      "  LoggedActivitiesDistance = col_double(),\n",
      "  VeryActiveDistance = col_double(),\n",
      "  ModeratelyActiveDistance = col_double(),\n",
      "  LightActiveDistance = col_double(),\n",
      "  SedentaryActiveDistance = col_double(),\n",
      "  VeryActiveMinutes = col_double(),\n",
      "  FairlyActiveMinutes = col_double(),\n",
      "  LightlyActiveMinutes = col_double(),\n",
      "  SedentaryMinutes = col_double(),\n",
      "  Calories = col_double()\n",
      ")\n"
     ]
    }
   ],
   "source": [
    "daily_activity <- read_csv(\"Data/dailyActivity_merged.csv\")\n",
    "hourly_calories <- read.csv(\"Data/hourlyCalories_merged.csv\")\n",
    "hourly_intensities <- read.csv(\"Data/hourlyIntensities_merged.csv\")\n",
    "hourly_steps <- read.csv(\"Data/hourlySteps_merged.csv\")\n",
    "sleep_day <- read.csv(\"Data/sleepDay_merged.csv\")\n"
   ]
  },
  {
   "cell_type": "markdown",
   "id": "53333dda",
   "metadata": {},
   "source": [
    "- Checking data frame and columns name"
   ]
  },
  {
   "cell_type": "code",
   "execution_count": 4,
   "id": "8ca4ee32",
   "metadata": {},
   "outputs": [
    {
     "data": {
      "text/html": [
       "<table>\n",
       "<thead><tr><th scope=col>Id</th><th scope=col>ActivityDate</th><th scope=col>TotalSteps</th><th scope=col>TotalDistance</th><th scope=col>TrackerDistance</th><th scope=col>LoggedActivitiesDistance</th><th scope=col>VeryActiveDistance</th><th scope=col>ModeratelyActiveDistance</th><th scope=col>LightActiveDistance</th><th scope=col>SedentaryActiveDistance</th><th scope=col>VeryActiveMinutes</th><th scope=col>FairlyActiveMinutes</th><th scope=col>LightlyActiveMinutes</th><th scope=col>SedentaryMinutes</th><th scope=col>Calories</th></tr></thead>\n",
       "<tbody>\n",
       "\t<tr><td>1503960366</td><td>4/12/2016 </td><td>13162     </td><td>8.50      </td><td>8.50      </td><td>0         </td><td>1.88      </td><td>0.55      </td><td>6.06      </td><td>0         </td><td>25        </td><td>13        </td><td>328       </td><td> 728      </td><td>1985      </td></tr>\n",
       "\t<tr><td>1503960366</td><td>4/13/2016 </td><td>10735     </td><td>6.97      </td><td>6.97      </td><td>0         </td><td>1.57      </td><td>0.69      </td><td>4.71      </td><td>0         </td><td>21        </td><td>19        </td><td>217       </td><td> 776      </td><td>1797      </td></tr>\n",
       "\t<tr><td>1503960366</td><td>4/14/2016 </td><td>10460     </td><td>6.74      </td><td>6.74      </td><td>0         </td><td>2.44      </td><td>0.40      </td><td>3.91      </td><td>0         </td><td>30        </td><td>11        </td><td>181       </td><td>1218      </td><td>1776      </td></tr>\n",
       "\t<tr><td>1503960366</td><td>4/15/2016 </td><td> 9762     </td><td>6.28      </td><td>6.28      </td><td>0         </td><td>2.14      </td><td>1.26      </td><td>2.83      </td><td>0         </td><td>29        </td><td>34        </td><td>209       </td><td> 726      </td><td>1745      </td></tr>\n",
       "\t<tr><td>1503960366</td><td>4/16/2016 </td><td>12669     </td><td>8.16      </td><td>8.16      </td><td>0         </td><td>2.71      </td><td>0.41      </td><td>5.04      </td><td>0         </td><td>36        </td><td>10        </td><td>221       </td><td> 773      </td><td>1863      </td></tr>\n",
       "\t<tr><td>1503960366</td><td>4/17/2016 </td><td> 9705     </td><td>6.48      </td><td>6.48      </td><td>0         </td><td>3.19      </td><td>0.78      </td><td>2.51      </td><td>0         </td><td>38        </td><td>20        </td><td>164       </td><td> 539      </td><td>1728      </td></tr>\n",
       "</tbody>\n",
       "</table>\n"
      ],
      "text/latex": [
       "\\begin{tabular}{r|lllllllllllllll}\n",
       " Id & ActivityDate & TotalSteps & TotalDistance & TrackerDistance & LoggedActivitiesDistance & VeryActiveDistance & ModeratelyActiveDistance & LightActiveDistance & SedentaryActiveDistance & VeryActiveMinutes & FairlyActiveMinutes & LightlyActiveMinutes & SedentaryMinutes & Calories\\\\\n",
       "\\hline\n",
       "\t 1503960366 & 4/12/2016  & 13162      & 8.50       & 8.50       & 0          & 1.88       & 0.55       & 6.06       & 0          & 25         & 13         & 328        &  728       & 1985      \\\\\n",
       "\t 1503960366 & 4/13/2016  & 10735      & 6.97       & 6.97       & 0          & 1.57       & 0.69       & 4.71       & 0          & 21         & 19         & 217        &  776       & 1797      \\\\\n",
       "\t 1503960366 & 4/14/2016  & 10460      & 6.74       & 6.74       & 0          & 2.44       & 0.40       & 3.91       & 0          & 30         & 11         & 181        & 1218       & 1776      \\\\\n",
       "\t 1503960366 & 4/15/2016  &  9762      & 6.28       & 6.28       & 0          & 2.14       & 1.26       & 2.83       & 0          & 29         & 34         & 209        &  726       & 1745      \\\\\n",
       "\t 1503960366 & 4/16/2016  & 12669      & 8.16       & 8.16       & 0          & 2.71       & 0.41       & 5.04       & 0          & 36         & 10         & 221        &  773       & 1863      \\\\\n",
       "\t 1503960366 & 4/17/2016  &  9705      & 6.48       & 6.48       & 0          & 3.19       & 0.78       & 2.51       & 0          & 38         & 20         & 164        &  539       & 1728      \\\\\n",
       "\\end{tabular}\n"
      ],
      "text/markdown": [
       "\n",
       "| Id | ActivityDate | TotalSteps | TotalDistance | TrackerDistance | LoggedActivitiesDistance | VeryActiveDistance | ModeratelyActiveDistance | LightActiveDistance | SedentaryActiveDistance | VeryActiveMinutes | FairlyActiveMinutes | LightlyActiveMinutes | SedentaryMinutes | Calories |\n",
       "|---|---|---|---|---|---|---|---|---|---|---|---|---|---|---|\n",
       "| 1503960366 | 4/12/2016  | 13162      | 8.50       | 8.50       | 0          | 1.88       | 0.55       | 6.06       | 0          | 25         | 13         | 328        |  728       | 1985       |\n",
       "| 1503960366 | 4/13/2016  | 10735      | 6.97       | 6.97       | 0          | 1.57       | 0.69       | 4.71       | 0          | 21         | 19         | 217        |  776       | 1797       |\n",
       "| 1503960366 | 4/14/2016  | 10460      | 6.74       | 6.74       | 0          | 2.44       | 0.40       | 3.91       | 0          | 30         | 11         | 181        | 1218       | 1776       |\n",
       "| 1503960366 | 4/15/2016  |  9762      | 6.28       | 6.28       | 0          | 2.14       | 1.26       | 2.83       | 0          | 29         | 34         | 209        |  726       | 1745       |\n",
       "| 1503960366 | 4/16/2016  | 12669      | 8.16       | 8.16       | 0          | 2.71       | 0.41       | 5.04       | 0          | 36         | 10         | 221        |  773       | 1863       |\n",
       "| 1503960366 | 4/17/2016  |  9705      | 6.48       | 6.48       | 0          | 3.19       | 0.78       | 2.51       | 0          | 38         | 20         | 164        |  539       | 1728       |\n",
       "\n"
      ],
      "text/plain": [
       "  Id         ActivityDate TotalSteps TotalDistance TrackerDistance\n",
       "1 1503960366 4/12/2016    13162      8.50          8.50           \n",
       "2 1503960366 4/13/2016    10735      6.97          6.97           \n",
       "3 1503960366 4/14/2016    10460      6.74          6.74           \n",
       "4 1503960366 4/15/2016     9762      6.28          6.28           \n",
       "5 1503960366 4/16/2016    12669      8.16          8.16           \n",
       "6 1503960366 4/17/2016     9705      6.48          6.48           \n",
       "  LoggedActivitiesDistance VeryActiveDistance ModeratelyActiveDistance\n",
       "1 0                        1.88               0.55                    \n",
       "2 0                        1.57               0.69                    \n",
       "3 0                        2.44               0.40                    \n",
       "4 0                        2.14               1.26                    \n",
       "5 0                        2.71               0.41                    \n",
       "6 0                        3.19               0.78                    \n",
       "  LightActiveDistance SedentaryActiveDistance VeryActiveMinutes\n",
       "1 6.06                0                       25               \n",
       "2 4.71                0                       21               \n",
       "3 3.91                0                       30               \n",
       "4 2.83                0                       29               \n",
       "5 5.04                0                       36               \n",
       "6 2.51                0                       38               \n",
       "  FairlyActiveMinutes LightlyActiveMinutes SedentaryMinutes Calories\n",
       "1 13                  328                   728             1985    \n",
       "2 19                  217                   776             1797    \n",
       "3 11                  181                  1218             1776    \n",
       "4 34                  209                   726             1745    \n",
       "5 10                  221                   773             1863    \n",
       "6 20                  164                   539             1728    "
      ]
     },
     "metadata": {},
     "output_type": "display_data"
    },
    {
     "data": {
      "text/html": [
       "<ol class=list-inline>\n",
       "\t<li>'Id'</li>\n",
       "\t<li>'ActivityDate'</li>\n",
       "\t<li>'TotalSteps'</li>\n",
       "\t<li>'TotalDistance'</li>\n",
       "\t<li>'TrackerDistance'</li>\n",
       "\t<li>'LoggedActivitiesDistance'</li>\n",
       "\t<li>'VeryActiveDistance'</li>\n",
       "\t<li>'ModeratelyActiveDistance'</li>\n",
       "\t<li>'LightActiveDistance'</li>\n",
       "\t<li>'SedentaryActiveDistance'</li>\n",
       "\t<li>'VeryActiveMinutes'</li>\n",
       "\t<li>'FairlyActiveMinutes'</li>\n",
       "\t<li>'LightlyActiveMinutes'</li>\n",
       "\t<li>'SedentaryMinutes'</li>\n",
       "\t<li>'Calories'</li>\n",
       "</ol>\n"
      ],
      "text/latex": [
       "\\begin{enumerate*}\n",
       "\\item 'Id'\n",
       "\\item 'ActivityDate'\n",
       "\\item 'TotalSteps'\n",
       "\\item 'TotalDistance'\n",
       "\\item 'TrackerDistance'\n",
       "\\item 'LoggedActivitiesDistance'\n",
       "\\item 'VeryActiveDistance'\n",
       "\\item 'ModeratelyActiveDistance'\n",
       "\\item 'LightActiveDistance'\n",
       "\\item 'SedentaryActiveDistance'\n",
       "\\item 'VeryActiveMinutes'\n",
       "\\item 'FairlyActiveMinutes'\n",
       "\\item 'LightlyActiveMinutes'\n",
       "\\item 'SedentaryMinutes'\n",
       "\\item 'Calories'\n",
       "\\end{enumerate*}\n"
      ],
      "text/markdown": [
       "1. 'Id'\n",
       "2. 'ActivityDate'\n",
       "3. 'TotalSteps'\n",
       "4. 'TotalDistance'\n",
       "5. 'TrackerDistance'\n",
       "6. 'LoggedActivitiesDistance'\n",
       "7. 'VeryActiveDistance'\n",
       "8. 'ModeratelyActiveDistance'\n",
       "9. 'LightActiveDistance'\n",
       "10. 'SedentaryActiveDistance'\n",
       "11. 'VeryActiveMinutes'\n",
       "12. 'FairlyActiveMinutes'\n",
       "13. 'LightlyActiveMinutes'\n",
       "14. 'SedentaryMinutes'\n",
       "15. 'Calories'\n",
       "\n",
       "\n"
      ],
      "text/plain": [
       " [1] \"Id\"                       \"ActivityDate\"            \n",
       " [3] \"TotalSteps\"               \"TotalDistance\"           \n",
       " [5] \"TrackerDistance\"          \"LoggedActivitiesDistance\"\n",
       " [7] \"VeryActiveDistance\"       \"ModeratelyActiveDistance\"\n",
       " [9] \"LightActiveDistance\"      \"SedentaryActiveDistance\" \n",
       "[11] \"VeryActiveMinutes\"        \"FairlyActiveMinutes\"     \n",
       "[13] \"LightlyActiveMinutes\"     \"SedentaryMinutes\"        \n",
       "[15] \"Calories\"                "
      ]
     },
     "metadata": {},
     "output_type": "display_data"
    },
    {
     "data": {
      "text/html": [
       "<table>\n",
       "<thead><tr><th scope=col>Id</th><th scope=col>ActivityHour</th><th scope=col>Calories</th></tr></thead>\n",
       "<tbody>\n",
       "\t<tr><td>1503960366           </td><td>4/12/2016 12:00:00 AM</td><td>81                   </td></tr>\n",
       "\t<tr><td>1503960366           </td><td>4/12/2016 1:00:00 AM </td><td>61                   </td></tr>\n",
       "\t<tr><td>1503960366           </td><td>4/12/2016 2:00:00 AM </td><td>59                   </td></tr>\n",
       "\t<tr><td>1503960366           </td><td>4/12/2016 3:00:00 AM </td><td>47                   </td></tr>\n",
       "\t<tr><td>1503960366           </td><td>4/12/2016 4:00:00 AM </td><td>48                   </td></tr>\n",
       "\t<tr><td>1503960366           </td><td>4/12/2016 5:00:00 AM </td><td>48                   </td></tr>\n",
       "</tbody>\n",
       "</table>\n"
      ],
      "text/latex": [
       "\\begin{tabular}{r|lll}\n",
       " Id & ActivityHour & Calories\\\\\n",
       "\\hline\n",
       "\t 1503960366            & 4/12/2016 12:00:00 AM & 81                   \\\\\n",
       "\t 1503960366            & 4/12/2016 1:00:00 AM  & 61                   \\\\\n",
       "\t 1503960366            & 4/12/2016 2:00:00 AM  & 59                   \\\\\n",
       "\t 1503960366            & 4/12/2016 3:00:00 AM  & 47                   \\\\\n",
       "\t 1503960366            & 4/12/2016 4:00:00 AM  & 48                   \\\\\n",
       "\t 1503960366            & 4/12/2016 5:00:00 AM  & 48                   \\\\\n",
       "\\end{tabular}\n"
      ],
      "text/markdown": [
       "\n",
       "| Id | ActivityHour | Calories |\n",
       "|---|---|---|\n",
       "| 1503960366            | 4/12/2016 12:00:00 AM | 81                    |\n",
       "| 1503960366            | 4/12/2016 1:00:00 AM  | 61                    |\n",
       "| 1503960366            | 4/12/2016 2:00:00 AM  | 59                    |\n",
       "| 1503960366            | 4/12/2016 3:00:00 AM  | 47                    |\n",
       "| 1503960366            | 4/12/2016 4:00:00 AM  | 48                    |\n",
       "| 1503960366            | 4/12/2016 5:00:00 AM  | 48                    |\n",
       "\n"
      ],
      "text/plain": [
       "  Id         ActivityHour          Calories\n",
       "1 1503960366 4/12/2016 12:00:00 AM 81      \n",
       "2 1503960366 4/12/2016 1:00:00 AM  61      \n",
       "3 1503960366 4/12/2016 2:00:00 AM  59      \n",
       "4 1503960366 4/12/2016 3:00:00 AM  47      \n",
       "5 1503960366 4/12/2016 4:00:00 AM  48      \n",
       "6 1503960366 4/12/2016 5:00:00 AM  48      "
      ]
     },
     "metadata": {},
     "output_type": "display_data"
    },
    {
     "data": {
      "text/html": [
       "<ol class=list-inline>\n",
       "\t<li>'Id'</li>\n",
       "\t<li>'ActivityHour'</li>\n",
       "\t<li>'Calories'</li>\n",
       "</ol>\n"
      ],
      "text/latex": [
       "\\begin{enumerate*}\n",
       "\\item 'Id'\n",
       "\\item 'ActivityHour'\n",
       "\\item 'Calories'\n",
       "\\end{enumerate*}\n"
      ],
      "text/markdown": [
       "1. 'Id'\n",
       "2. 'ActivityHour'\n",
       "3. 'Calories'\n",
       "\n",
       "\n"
      ],
      "text/plain": [
       "[1] \"Id\"           \"ActivityHour\" \"Calories\"    "
      ]
     },
     "metadata": {},
     "output_type": "display_data"
    },
    {
     "data": {
      "text/html": [
       "<table>\n",
       "<thead><tr><th scope=col>Id</th><th scope=col>ActivityHour</th><th scope=col>TotalIntensity</th><th scope=col>AverageIntensity</th></tr></thead>\n",
       "<tbody>\n",
       "\t<tr><td>1503960366           </td><td>4/12/2016 12:00:00 AM</td><td>20                   </td><td>0.333333             </td></tr>\n",
       "\t<tr><td>1503960366           </td><td>4/12/2016 1:00:00 AM </td><td> 8                   </td><td>0.133333             </td></tr>\n",
       "\t<tr><td>1503960366           </td><td>4/12/2016 2:00:00 AM </td><td> 7                   </td><td>0.116667             </td></tr>\n",
       "\t<tr><td>1503960366           </td><td>4/12/2016 3:00:00 AM </td><td> 0                   </td><td>0.000000             </td></tr>\n",
       "\t<tr><td>1503960366           </td><td>4/12/2016 4:00:00 AM </td><td> 0                   </td><td>0.000000             </td></tr>\n",
       "\t<tr><td>1503960366           </td><td>4/12/2016 5:00:00 AM </td><td> 0                   </td><td>0.000000             </td></tr>\n",
       "</tbody>\n",
       "</table>\n"
      ],
      "text/latex": [
       "\\begin{tabular}{r|llll}\n",
       " Id & ActivityHour & TotalIntensity & AverageIntensity\\\\\n",
       "\\hline\n",
       "\t 1503960366            & 4/12/2016 12:00:00 AM & 20                    & 0.333333             \\\\\n",
       "\t 1503960366            & 4/12/2016 1:00:00 AM  &  8                    & 0.133333             \\\\\n",
       "\t 1503960366            & 4/12/2016 2:00:00 AM  &  7                    & 0.116667             \\\\\n",
       "\t 1503960366            & 4/12/2016 3:00:00 AM  &  0                    & 0.000000             \\\\\n",
       "\t 1503960366            & 4/12/2016 4:00:00 AM  &  0                    & 0.000000             \\\\\n",
       "\t 1503960366            & 4/12/2016 5:00:00 AM  &  0                    & 0.000000             \\\\\n",
       "\\end{tabular}\n"
      ],
      "text/markdown": [
       "\n",
       "| Id | ActivityHour | TotalIntensity | AverageIntensity |\n",
       "|---|---|---|---|\n",
       "| 1503960366            | 4/12/2016 12:00:00 AM | 20                    | 0.333333              |\n",
       "| 1503960366            | 4/12/2016 1:00:00 AM  |  8                    | 0.133333              |\n",
       "| 1503960366            | 4/12/2016 2:00:00 AM  |  7                    | 0.116667              |\n",
       "| 1503960366            | 4/12/2016 3:00:00 AM  |  0                    | 0.000000              |\n",
       "| 1503960366            | 4/12/2016 4:00:00 AM  |  0                    | 0.000000              |\n",
       "| 1503960366            | 4/12/2016 5:00:00 AM  |  0                    | 0.000000              |\n",
       "\n"
      ],
      "text/plain": [
       "  Id         ActivityHour          TotalIntensity AverageIntensity\n",
       "1 1503960366 4/12/2016 12:00:00 AM 20             0.333333        \n",
       "2 1503960366 4/12/2016 1:00:00 AM   8             0.133333        \n",
       "3 1503960366 4/12/2016 2:00:00 AM   7             0.116667        \n",
       "4 1503960366 4/12/2016 3:00:00 AM   0             0.000000        \n",
       "5 1503960366 4/12/2016 4:00:00 AM   0             0.000000        \n",
       "6 1503960366 4/12/2016 5:00:00 AM   0             0.000000        "
      ]
     },
     "metadata": {},
     "output_type": "display_data"
    },
    {
     "data": {
      "text/html": [
       "<ol class=list-inline>\n",
       "\t<li>'Id'</li>\n",
       "\t<li>'ActivityHour'</li>\n",
       "\t<li>'TotalIntensity'</li>\n",
       "\t<li>'AverageIntensity'</li>\n",
       "</ol>\n"
      ],
      "text/latex": [
       "\\begin{enumerate*}\n",
       "\\item 'Id'\n",
       "\\item 'ActivityHour'\n",
       "\\item 'TotalIntensity'\n",
       "\\item 'AverageIntensity'\n",
       "\\end{enumerate*}\n"
      ],
      "text/markdown": [
       "1. 'Id'\n",
       "2. 'ActivityHour'\n",
       "3. 'TotalIntensity'\n",
       "4. 'AverageIntensity'\n",
       "\n",
       "\n"
      ],
      "text/plain": [
       "[1] \"Id\"               \"ActivityHour\"     \"TotalIntensity\"   \"AverageIntensity\""
      ]
     },
     "metadata": {},
     "output_type": "display_data"
    },
    {
     "data": {
      "text/html": [
       "<table>\n",
       "<thead><tr><th scope=col>Id</th><th scope=col>ActivityHour</th><th scope=col>StepTotal</th></tr></thead>\n",
       "<tbody>\n",
       "\t<tr><td>1503960366           </td><td>4/12/2016 12:00:00 AM</td><td>373                  </td></tr>\n",
       "\t<tr><td>1503960366           </td><td>4/12/2016 1:00:00 AM </td><td>160                  </td></tr>\n",
       "\t<tr><td>1503960366           </td><td>4/12/2016 2:00:00 AM </td><td>151                  </td></tr>\n",
       "\t<tr><td>1503960366           </td><td>4/12/2016 3:00:00 AM </td><td>  0                  </td></tr>\n",
       "\t<tr><td>1503960366           </td><td>4/12/2016 4:00:00 AM </td><td>  0                  </td></tr>\n",
       "\t<tr><td>1503960366           </td><td>4/12/2016 5:00:00 AM </td><td>  0                  </td></tr>\n",
       "</tbody>\n",
       "</table>\n"
      ],
      "text/latex": [
       "\\begin{tabular}{r|lll}\n",
       " Id & ActivityHour & StepTotal\\\\\n",
       "\\hline\n",
       "\t 1503960366            & 4/12/2016 12:00:00 AM & 373                  \\\\\n",
       "\t 1503960366            & 4/12/2016 1:00:00 AM  & 160                  \\\\\n",
       "\t 1503960366            & 4/12/2016 2:00:00 AM  & 151                  \\\\\n",
       "\t 1503960366            & 4/12/2016 3:00:00 AM  &   0                  \\\\\n",
       "\t 1503960366            & 4/12/2016 4:00:00 AM  &   0                  \\\\\n",
       "\t 1503960366            & 4/12/2016 5:00:00 AM  &   0                  \\\\\n",
       "\\end{tabular}\n"
      ],
      "text/markdown": [
       "\n",
       "| Id | ActivityHour | StepTotal |\n",
       "|---|---|---|\n",
       "| 1503960366            | 4/12/2016 12:00:00 AM | 373                   |\n",
       "| 1503960366            | 4/12/2016 1:00:00 AM  | 160                   |\n",
       "| 1503960366            | 4/12/2016 2:00:00 AM  | 151                   |\n",
       "| 1503960366            | 4/12/2016 3:00:00 AM  |   0                   |\n",
       "| 1503960366            | 4/12/2016 4:00:00 AM  |   0                   |\n",
       "| 1503960366            | 4/12/2016 5:00:00 AM  |   0                   |\n",
       "\n"
      ],
      "text/plain": [
       "  Id         ActivityHour          StepTotal\n",
       "1 1503960366 4/12/2016 12:00:00 AM 373      \n",
       "2 1503960366 4/12/2016 1:00:00 AM  160      \n",
       "3 1503960366 4/12/2016 2:00:00 AM  151      \n",
       "4 1503960366 4/12/2016 3:00:00 AM    0      \n",
       "5 1503960366 4/12/2016 4:00:00 AM    0      \n",
       "6 1503960366 4/12/2016 5:00:00 AM    0      "
      ]
     },
     "metadata": {},
     "output_type": "display_data"
    },
    {
     "data": {
      "text/html": [
       "<ol class=list-inline>\n",
       "\t<li>'Id'</li>\n",
       "\t<li>'ActivityHour'</li>\n",
       "\t<li>'StepTotal'</li>\n",
       "</ol>\n"
      ],
      "text/latex": [
       "\\begin{enumerate*}\n",
       "\\item 'Id'\n",
       "\\item 'ActivityHour'\n",
       "\\item 'StepTotal'\n",
       "\\end{enumerate*}\n"
      ],
      "text/markdown": [
       "1. 'Id'\n",
       "2. 'ActivityHour'\n",
       "3. 'StepTotal'\n",
       "\n",
       "\n"
      ],
      "text/plain": [
       "[1] \"Id\"           \"ActivityHour\" \"StepTotal\"   "
      ]
     },
     "metadata": {},
     "output_type": "display_data"
    },
    {
     "data": {
      "text/html": [
       "<table>\n",
       "<thead><tr><th scope=col>Id</th><th scope=col>SleepDay</th><th scope=col>TotalSleepRecords</th><th scope=col>TotalMinutesAsleep</th><th scope=col>TotalTimeInBed</th></tr></thead>\n",
       "<tbody>\n",
       "\t<tr><td>1503960366           </td><td>4/12/2016 12:00:00 AM</td><td>1                    </td><td>327                  </td><td>346                  </td></tr>\n",
       "\t<tr><td>1503960366           </td><td>4/13/2016 12:00:00 AM</td><td>2                    </td><td>384                  </td><td>407                  </td></tr>\n",
       "\t<tr><td>1503960366           </td><td>4/15/2016 12:00:00 AM</td><td>1                    </td><td>412                  </td><td>442                  </td></tr>\n",
       "\t<tr><td>1503960366           </td><td>4/16/2016 12:00:00 AM</td><td>2                    </td><td>340                  </td><td>367                  </td></tr>\n",
       "\t<tr><td>1503960366           </td><td>4/17/2016 12:00:00 AM</td><td>1                    </td><td>700                  </td><td>712                  </td></tr>\n",
       "\t<tr><td>1503960366           </td><td>4/19/2016 12:00:00 AM</td><td>1                    </td><td>304                  </td><td>320                  </td></tr>\n",
       "</tbody>\n",
       "</table>\n"
      ],
      "text/latex": [
       "\\begin{tabular}{r|lllll}\n",
       " Id & SleepDay & TotalSleepRecords & TotalMinutesAsleep & TotalTimeInBed\\\\\n",
       "\\hline\n",
       "\t 1503960366            & 4/12/2016 12:00:00 AM & 1                     & 327                   & 346                  \\\\\n",
       "\t 1503960366            & 4/13/2016 12:00:00 AM & 2                     & 384                   & 407                  \\\\\n",
       "\t 1503960366            & 4/15/2016 12:00:00 AM & 1                     & 412                   & 442                  \\\\\n",
       "\t 1503960366            & 4/16/2016 12:00:00 AM & 2                     & 340                   & 367                  \\\\\n",
       "\t 1503960366            & 4/17/2016 12:00:00 AM & 1                     & 700                   & 712                  \\\\\n",
       "\t 1503960366            & 4/19/2016 12:00:00 AM & 1                     & 304                   & 320                  \\\\\n",
       "\\end{tabular}\n"
      ],
      "text/markdown": [
       "\n",
       "| Id | SleepDay | TotalSleepRecords | TotalMinutesAsleep | TotalTimeInBed |\n",
       "|---|---|---|---|---|\n",
       "| 1503960366            | 4/12/2016 12:00:00 AM | 1                     | 327                   | 346                   |\n",
       "| 1503960366            | 4/13/2016 12:00:00 AM | 2                     | 384                   | 407                   |\n",
       "| 1503960366            | 4/15/2016 12:00:00 AM | 1                     | 412                   | 442                   |\n",
       "| 1503960366            | 4/16/2016 12:00:00 AM | 2                     | 340                   | 367                   |\n",
       "| 1503960366            | 4/17/2016 12:00:00 AM | 1                     | 700                   | 712                   |\n",
       "| 1503960366            | 4/19/2016 12:00:00 AM | 1                     | 304                   | 320                   |\n",
       "\n"
      ],
      "text/plain": [
       "  Id         SleepDay              TotalSleepRecords TotalMinutesAsleep\n",
       "1 1503960366 4/12/2016 12:00:00 AM 1                 327               \n",
       "2 1503960366 4/13/2016 12:00:00 AM 2                 384               \n",
       "3 1503960366 4/15/2016 12:00:00 AM 1                 412               \n",
       "4 1503960366 4/16/2016 12:00:00 AM 2                 340               \n",
       "5 1503960366 4/17/2016 12:00:00 AM 1                 700               \n",
       "6 1503960366 4/19/2016 12:00:00 AM 1                 304               \n",
       "  TotalTimeInBed\n",
       "1 346           \n",
       "2 407           \n",
       "3 442           \n",
       "4 367           \n",
       "5 712           \n",
       "6 320           "
      ]
     },
     "metadata": {},
     "output_type": "display_data"
    },
    {
     "data": {
      "text/html": [
       "<ol class=list-inline>\n",
       "\t<li>'Id'</li>\n",
       "\t<li>'SleepDay'</li>\n",
       "\t<li>'TotalSleepRecords'</li>\n",
       "\t<li>'TotalMinutesAsleep'</li>\n",
       "\t<li>'TotalTimeInBed'</li>\n",
       "</ol>\n"
      ],
      "text/latex": [
       "\\begin{enumerate*}\n",
       "\\item 'Id'\n",
       "\\item 'SleepDay'\n",
       "\\item 'TotalSleepRecords'\n",
       "\\item 'TotalMinutesAsleep'\n",
       "\\item 'TotalTimeInBed'\n",
       "\\end{enumerate*}\n"
      ],
      "text/markdown": [
       "1. 'Id'\n",
       "2. 'SleepDay'\n",
       "3. 'TotalSleepRecords'\n",
       "4. 'TotalMinutesAsleep'\n",
       "5. 'TotalTimeInBed'\n",
       "\n",
       "\n"
      ],
      "text/plain": [
       "[1] \"Id\"                 \"SleepDay\"           \"TotalSleepRecords\" \n",
       "[4] \"TotalMinutesAsleep\" \"TotalTimeInBed\"    "
      ]
     },
     "metadata": {},
     "output_type": "display_data"
    }
   ],
   "source": [
    "head(daily_activity)\n",
    "colnames(daily_activity)\n",
    "\n",
    "head(hourly_calories)\n",
    "colnames(hourly_calories)\n",
    "\n",
    "head(hourly_intensities)\n",
    "colnames(hourly_intensities)\n",
    "\n",
    "head(hourly_steps)\n",
    "colnames(hourly_steps)\n",
    "\n",
    "head(sleep_day) \n",
    "colnames(sleep_day)"
   ]
  },
  {
   "cell_type": "markdown",
   "id": "574991cf",
   "metadata": {},
   "source": [
    "- Finding number of row and distinct user id from each data frame"
   ]
  },
  {
   "cell_type": "code",
   "execution_count": 5,
   "id": "24210f6c",
   "metadata": {},
   "outputs": [
    {
     "data": {
      "text/html": [
       "940"
      ],
      "text/latex": [
       "940"
      ],
      "text/markdown": [
       "940"
      ],
      "text/plain": [
       "[1] 940"
      ]
     },
     "metadata": {},
     "output_type": "display_data"
    },
    {
     "data": {
      "text/html": [
       "22099"
      ],
      "text/latex": [
       "22099"
      ],
      "text/markdown": [
       "22099"
      ],
      "text/plain": [
       "[1] 22099"
      ]
     },
     "metadata": {},
     "output_type": "display_data"
    },
    {
     "data": {
      "text/html": [
       "22099"
      ],
      "text/latex": [
       "22099"
      ],
      "text/markdown": [
       "22099"
      ],
      "text/plain": [
       "[1] 22099"
      ]
     },
     "metadata": {},
     "output_type": "display_data"
    },
    {
     "data": {
      "text/html": [
       "22099"
      ],
      "text/latex": [
       "22099"
      ],
      "text/markdown": [
       "22099"
      ],
      "text/plain": [
       "[1] 22099"
      ]
     },
     "metadata": {},
     "output_type": "display_data"
    },
    {
     "data": {
      "text/html": [
       "413"
      ],
      "text/latex": [
       "413"
      ],
      "text/markdown": [
       "413"
      ],
      "text/plain": [
       "[1] 413"
      ]
     },
     "metadata": {},
     "output_type": "display_data"
    }
   ],
   "source": [
    "nrow(daily_activity)\n",
    "nrow(hourly_calories)\n",
    "nrow(hourly_intensities)\n",
    "nrow(hourly_steps)\n",
    "nrow(sleep_day)"
   ]
  },
  {
   "cell_type": "markdown",
   "id": "f127af07",
   "metadata": {},
   "source": [
    "- Find distinct number of user, only sleep_day has 24 user"
   ]
  },
  {
   "cell_type": "code",
   "execution_count": 6,
   "id": "e41f05b7",
   "metadata": {},
   "outputs": [
    {
     "data": {
      "text/html": [
       "33"
      ],
      "text/latex": [
       "33"
      ],
      "text/markdown": [
       "33"
      ],
      "text/plain": [
       "[1] 33"
      ]
     },
     "metadata": {},
     "output_type": "display_data"
    },
    {
     "data": {
      "text/html": [
       "33"
      ],
      "text/latex": [
       "33"
      ],
      "text/markdown": [
       "33"
      ],
      "text/plain": [
       "[1] 33"
      ]
     },
     "metadata": {},
     "output_type": "display_data"
    },
    {
     "data": {
      "text/html": [
       "33"
      ],
      "text/latex": [
       "33"
      ],
      "text/markdown": [
       "33"
      ],
      "text/plain": [
       "[1] 33"
      ]
     },
     "metadata": {},
     "output_type": "display_data"
    },
    {
     "data": {
      "text/html": [
       "33"
      ],
      "text/latex": [
       "33"
      ],
      "text/markdown": [
       "33"
      ],
      "text/plain": [
       "[1] 33"
      ]
     },
     "metadata": {},
     "output_type": "display_data"
    },
    {
     "data": {
      "text/html": [
       "24"
      ],
      "text/latex": [
       "24"
      ],
      "text/markdown": [
       "24"
      ],
      "text/plain": [
       "[1] 24"
      ]
     },
     "metadata": {},
     "output_type": "display_data"
    }
   ],
   "source": [
    "n_distinct(daily_activity$Id)\n",
    "n_distinct(hourly_calories$Id)\n",
    "n_distinct(hourly_intensities$Id)\n",
    "n_distinct(hourly_steps$Id)\n",
    "n_distinct(sleep_day$Id)"
   ]
  },
  {
   "cell_type": "markdown",
   "id": "d5d053ae",
   "metadata": {},
   "source": [
    "- Finding duplicate and NA that we will remove later\n",
    "- Only sleep data has duplicate"
   ]
  },
  {
   "cell_type": "code",
   "execution_count": 7,
   "id": "8697a6fd",
   "metadata": {},
   "outputs": [
    {
     "data": {
      "text/html": [
       "0"
      ],
      "text/latex": [
       "0"
      ],
      "text/markdown": [
       "0"
      ],
      "text/plain": [
       "[1] 0"
      ]
     },
     "metadata": {},
     "output_type": "display_data"
    },
    {
     "data": {
      "text/html": [
       "0"
      ],
      "text/latex": [
       "0"
      ],
      "text/markdown": [
       "0"
      ],
      "text/plain": [
       "[1] 0"
      ]
     },
     "metadata": {},
     "output_type": "display_data"
    },
    {
     "data": {
      "text/html": [
       "0"
      ],
      "text/latex": [
       "0"
      ],
      "text/markdown": [
       "0"
      ],
      "text/plain": [
       "[1] 0"
      ]
     },
     "metadata": {},
     "output_type": "display_data"
    },
    {
     "data": {
      "text/html": [
       "0"
      ],
      "text/latex": [
       "0"
      ],
      "text/markdown": [
       "0"
      ],
      "text/plain": [
       "[1] 0"
      ]
     },
     "metadata": {},
     "output_type": "display_data"
    },
    {
     "data": {
      "text/html": [
       "3"
      ],
      "text/latex": [
       "3"
      ],
      "text/markdown": [
       "3"
      ],
      "text/plain": [
       "[1] 3"
      ]
     },
     "metadata": {},
     "output_type": "display_data"
    }
   ],
   "source": [
    "sum(duplicated(daily_activity))\n",
    "sum(duplicated(hourly_calories))\n",
    "sum(duplicated(hourly_intensities))\n",
    "sum(duplicated(hourly_steps))\n",
    "sum(duplicated(sleep_day))"
   ]
  },
  {
   "cell_type": "markdown",
   "id": "c966b488",
   "metadata": {},
   "source": [
    "- Remove duplicate and NA "
   ]
  },
  {
   "cell_type": "code",
   "execution_count": 8,
   "id": "f9cc1b9f",
   "metadata": {},
   "outputs": [],
   "source": [
    "daily_activity <- daily_activity %>% \n",
    "    drop_na()\n",
    "\n",
    "hourly_calories <- hourly_calories %>% \n",
    "    drop_na()\n",
    "\n",
    "hourly_intensities <- hourly_intensities %>% \n",
    "    drop_na()\n",
    "\n",
    "hourly_steps <- hourly_steps %>% \n",
    "    drop_na()\n",
    "\n",
    "sleep_day <- sleep_day %>% \n",
    "    drop_na() %>% \n",
    "    unique()"
   ]
  },
  {
   "cell_type": "code",
   "execution_count": 9,
   "id": "cab79a12",
   "metadata": {},
   "outputs": [
    {
     "data": {
      "text/html": [
       "0"
      ],
      "text/latex": [
       "0"
      ],
      "text/markdown": [
       "0"
      ],
      "text/plain": [
       "[1] 0"
      ]
     },
     "metadata": {},
     "output_type": "display_data"
    }
   ],
   "source": [
    "sum(duplicated(sleep_day))"
   ]
  },
  {
   "cell_type": "markdown",
   "id": "06bcfbd9",
   "metadata": {},
   "source": [
    "- Check data format, in this case we will focus on date time data \n",
    "- All of date time data is character not appropiate date time format"
   ]
  },
  {
   "cell_type": "code",
   "execution_count": 10,
   "id": "badc7f7d",
   "metadata": {},
   "outputs": [
    {
     "name": "stdout",
     "output_type": "stream",
     "text": [
      "Observations: 940\n",
      "Variables: 15\n",
      "$ Id                       <dbl> 1503960366, 1503960366, 1503960366, 150396...\n",
      "$ ActivityDate             <chr> \"4/12/2016\", \"4/13/2016\", \"4/14/2016\", \"4/...\n",
      "$ TotalSteps               <dbl> 13162, 10735, 10460, 9762, 12669, 9705, 13...\n",
      "$ TotalDistance            <dbl> 8.50, 6.97, 6.74, 6.28, 8.16, 6.48, 8.59, ...\n",
      "$ TrackerDistance          <dbl> 8.50, 6.97, 6.74, 6.28, 8.16, 6.48, 8.59, ...\n",
      "$ LoggedActivitiesDistance <dbl> 0, 0, 0, 0, 0, 0, 0, 0, 0, 0, 0, 0, 0, 0, ...\n",
      "$ VeryActiveDistance       <dbl> 1.88, 1.57, 2.44, 2.14, 2.71, 3.19, 3.25, ...\n",
      "$ ModeratelyActiveDistance <dbl> 0.55, 0.69, 0.40, 1.26, 0.41, 0.78, 0.64, ...\n",
      "$ LightActiveDistance      <dbl> 6.06, 4.71, 3.91, 2.83, 5.04, 2.51, 4.71, ...\n",
      "$ SedentaryActiveDistance  <dbl> 0, 0, 0, 0, 0, 0, 0, 0, 0, 0, 0, 0, 0, 0, ...\n",
      "$ VeryActiveMinutes        <dbl> 25, 21, 30, 29, 36, 38, 42, 50, 28, 19, 66...\n",
      "$ FairlyActiveMinutes      <dbl> 13, 19, 11, 34, 10, 20, 16, 31, 12, 8, 27,...\n",
      "$ LightlyActiveMinutes     <dbl> 328, 217, 181, 209, 221, 164, 233, 264, 20...\n",
      "$ SedentaryMinutes         <dbl> 728, 776, 1218, 726, 773, 539, 1149, 775, ...\n",
      "$ Calories                 <dbl> 1985, 1797, 1776, 1745, 1863, 1728, 1921, ...\n",
      "Observations: 22,099\n",
      "Variables: 3\n",
      "$ Id           <dbl> 1503960366, 1503960366, 1503960366, 1503960366, 150396...\n",
      "$ ActivityHour <fct> 4/12/2016 12:00:00 AM, 4/12/2016 1:00:00 AM, 4/12/2016...\n",
      "$ Calories     <int> 81, 61, 59, 47, 48, 48, 48, 47, 68, 141, 99, 76, 73, 6...\n",
      "Observations: 22,099\n",
      "Variables: 4\n",
      "$ Id               <dbl> 1503960366, 1503960366, 1503960366, 1503960366, 15...\n",
      "$ ActivityHour     <fct> 4/12/2016 12:00:00 AM, 4/12/2016 1:00:00 AM, 4/12/...\n",
      "$ TotalIntensity   <int> 20, 8, 7, 0, 0, 0, 0, 0, 13, 30, 29, 12, 11, 6, 36...\n",
      "$ AverageIntensity <dbl> 0.333333, 0.133333, 0.116667, 0.000000, 0.000000, ...\n",
      "Observations: 22,099\n",
      "Variables: 3\n",
      "$ Id           <dbl> 1503960366, 1503960366, 1503960366, 1503960366, 150396...\n",
      "$ ActivityHour <fct> 4/12/2016 12:00:00 AM, 4/12/2016 1:00:00 AM, 4/12/2016...\n",
      "$ StepTotal    <int> 373, 160, 151, 0, 0, 0, 0, 0, 250, 1864, 676, 360, 253...\n",
      "Observations: 410\n",
      "Variables: 5\n",
      "$ Id                 <dbl> 1503960366, 1503960366, 1503960366, 1503960366, ...\n",
      "$ SleepDay           <fct> 4/12/2016 12:00:00 AM, 4/13/2016 12:00:00 AM, 4/...\n",
      "$ TotalSleepRecords  <int> 1, 2, 1, 2, 1, 1, 1, 1, 1, 1, 1, 1, 1, 1, 1, 1, ...\n",
      "$ TotalMinutesAsleep <int> 327, 384, 412, 340, 700, 304, 360, 325, 361, 430...\n",
      "$ TotalTimeInBed     <int> 346, 407, 442, 367, 712, 320, 377, 364, 384, 449...\n"
     ]
    }
   ],
   "source": [
    "glimpse(daily_activity)\n",
    "glimpse(hourly_calories)\n",
    "glimpse(hourly_intensities)\n",
    "glimpse(hourly_steps)\n",
    "glimpse(sleep_day)"
   ]
  },
  {
   "cell_type": "markdown",
   "id": "6ff56265",
   "metadata": {},
   "source": [
    "- Date should be 'mm-dd-yyyy'\n",
    "- Date will be added to new columns\n",
    "- Date time will be split to two columns and be added\n",
    "- Add day of week"
   ]
  },
  {
   "cell_type": "code",
   "execution_count": 11,
   "id": "9003073e",
   "metadata": {},
   "outputs": [],
   "source": [
    "daily_activity$Date <- mdy(daily_activity$ActivityDate)\n",
    "daily_activity$Weekday <- weekdays(daily_activity$Date)"
   ]
  },
  {
   "cell_type": "code",
   "execution_count": 12,
   "id": "43087998",
   "metadata": {
    "scrolled": true
   },
   "outputs": [
    {
     "data": {
      "text/html": [
       "<table>\n",
       "<thead><tr><th scope=col>Id</th><th scope=col>ActivityDate</th><th scope=col>TotalSteps</th><th scope=col>TotalDistance</th><th scope=col>TrackerDistance</th><th scope=col>LoggedActivitiesDistance</th><th scope=col>VeryActiveDistance</th><th scope=col>ModeratelyActiveDistance</th><th scope=col>LightActiveDistance</th><th scope=col>SedentaryActiveDistance</th><th scope=col>VeryActiveMinutes</th><th scope=col>FairlyActiveMinutes</th><th scope=col>LightlyActiveMinutes</th><th scope=col>SedentaryMinutes</th><th scope=col>Calories</th><th scope=col>Date</th><th scope=col>Weekday</th></tr></thead>\n",
       "<tbody>\n",
       "\t<tr><td>1503960366</td><td>4/12/2016 </td><td>13162     </td><td>8.50      </td><td>8.50      </td><td>0         </td><td>1.88      </td><td>0.55      </td><td>6.06      </td><td>0         </td><td>25        </td><td>13        </td><td>328       </td><td> 728      </td><td>1985      </td><td>2016-04-12</td><td>Tuesday   </td></tr>\n",
       "\t<tr><td>1503960366</td><td>4/13/2016 </td><td>10735     </td><td>6.97      </td><td>6.97      </td><td>0         </td><td>1.57      </td><td>0.69      </td><td>4.71      </td><td>0         </td><td>21        </td><td>19        </td><td>217       </td><td> 776      </td><td>1797      </td><td>2016-04-13</td><td>Wednesday </td></tr>\n",
       "\t<tr><td>1503960366</td><td>4/14/2016 </td><td>10460     </td><td>6.74      </td><td>6.74      </td><td>0         </td><td>2.44      </td><td>0.40      </td><td>3.91      </td><td>0         </td><td>30        </td><td>11        </td><td>181       </td><td>1218      </td><td>1776      </td><td>2016-04-14</td><td>Thursday  </td></tr>\n",
       "\t<tr><td>1503960366</td><td>4/15/2016 </td><td> 9762     </td><td>6.28      </td><td>6.28      </td><td>0         </td><td>2.14      </td><td>1.26      </td><td>2.83      </td><td>0         </td><td>29        </td><td>34        </td><td>209       </td><td> 726      </td><td>1745      </td><td>2016-04-15</td><td>Friday    </td></tr>\n",
       "\t<tr><td>1503960366</td><td>4/16/2016 </td><td>12669     </td><td>8.16      </td><td>8.16      </td><td>0         </td><td>2.71      </td><td>0.41      </td><td>5.04      </td><td>0         </td><td>36        </td><td>10        </td><td>221       </td><td> 773      </td><td>1863      </td><td>2016-04-16</td><td>Saturday  </td></tr>\n",
       "\t<tr><td>1503960366</td><td>4/17/2016 </td><td> 9705     </td><td>6.48      </td><td>6.48      </td><td>0         </td><td>3.19      </td><td>0.78      </td><td>2.51      </td><td>0         </td><td>38        </td><td>20        </td><td>164       </td><td> 539      </td><td>1728      </td><td>2016-04-17</td><td>Sunday    </td></tr>\n",
       "</tbody>\n",
       "</table>\n"
      ],
      "text/latex": [
       "\\begin{tabular}{r|lllllllllllllllll}\n",
       " Id & ActivityDate & TotalSteps & TotalDistance & TrackerDistance & LoggedActivitiesDistance & VeryActiveDistance & ModeratelyActiveDistance & LightActiveDistance & SedentaryActiveDistance & VeryActiveMinutes & FairlyActiveMinutes & LightlyActiveMinutes & SedentaryMinutes & Calories & Date & Weekday\\\\\n",
       "\\hline\n",
       "\t 1503960366 & 4/12/2016  & 13162      & 8.50       & 8.50       & 0          & 1.88       & 0.55       & 6.06       & 0          & 25         & 13         & 328        &  728       & 1985       & 2016-04-12 & Tuesday   \\\\\n",
       "\t 1503960366 & 4/13/2016  & 10735      & 6.97       & 6.97       & 0          & 1.57       & 0.69       & 4.71       & 0          & 21         & 19         & 217        &  776       & 1797       & 2016-04-13 & Wednesday \\\\\n",
       "\t 1503960366 & 4/14/2016  & 10460      & 6.74       & 6.74       & 0          & 2.44       & 0.40       & 3.91       & 0          & 30         & 11         & 181        & 1218       & 1776       & 2016-04-14 & Thursday  \\\\\n",
       "\t 1503960366 & 4/15/2016  &  9762      & 6.28       & 6.28       & 0          & 2.14       & 1.26       & 2.83       & 0          & 29         & 34         & 209        &  726       & 1745       & 2016-04-15 & Friday    \\\\\n",
       "\t 1503960366 & 4/16/2016  & 12669      & 8.16       & 8.16       & 0          & 2.71       & 0.41       & 5.04       & 0          & 36         & 10         & 221        &  773       & 1863       & 2016-04-16 & Saturday  \\\\\n",
       "\t 1503960366 & 4/17/2016  &  9705      & 6.48       & 6.48       & 0          & 3.19       & 0.78       & 2.51       & 0          & 38         & 20         & 164        &  539       & 1728       & 2016-04-17 & Sunday    \\\\\n",
       "\\end{tabular}\n"
      ],
      "text/markdown": [
       "\n",
       "| Id | ActivityDate | TotalSteps | TotalDistance | TrackerDistance | LoggedActivitiesDistance | VeryActiveDistance | ModeratelyActiveDistance | LightActiveDistance | SedentaryActiveDistance | VeryActiveMinutes | FairlyActiveMinutes | LightlyActiveMinutes | SedentaryMinutes | Calories | Date | Weekday |\n",
       "|---|---|---|---|---|---|---|---|---|---|---|---|---|---|---|---|---|\n",
       "| 1503960366 | 4/12/2016  | 13162      | 8.50       | 8.50       | 0          | 1.88       | 0.55       | 6.06       | 0          | 25         | 13         | 328        |  728       | 1985       | 2016-04-12 | Tuesday    |\n",
       "| 1503960366 | 4/13/2016  | 10735      | 6.97       | 6.97       | 0          | 1.57       | 0.69       | 4.71       | 0          | 21         | 19         | 217        |  776       | 1797       | 2016-04-13 | Wednesday  |\n",
       "| 1503960366 | 4/14/2016  | 10460      | 6.74       | 6.74       | 0          | 2.44       | 0.40       | 3.91       | 0          | 30         | 11         | 181        | 1218       | 1776       | 2016-04-14 | Thursday   |\n",
       "| 1503960366 | 4/15/2016  |  9762      | 6.28       | 6.28       | 0          | 2.14       | 1.26       | 2.83       | 0          | 29         | 34         | 209        |  726       | 1745       | 2016-04-15 | Friday     |\n",
       "| 1503960366 | 4/16/2016  | 12669      | 8.16       | 8.16       | 0          | 2.71       | 0.41       | 5.04       | 0          | 36         | 10         | 221        |  773       | 1863       | 2016-04-16 | Saturday   |\n",
       "| 1503960366 | 4/17/2016  |  9705      | 6.48       | 6.48       | 0          | 3.19       | 0.78       | 2.51       | 0          | 38         | 20         | 164        |  539       | 1728       | 2016-04-17 | Sunday     |\n",
       "\n"
      ],
      "text/plain": [
       "  Id         ActivityDate TotalSteps TotalDistance TrackerDistance\n",
       "1 1503960366 4/12/2016    13162      8.50          8.50           \n",
       "2 1503960366 4/13/2016    10735      6.97          6.97           \n",
       "3 1503960366 4/14/2016    10460      6.74          6.74           \n",
       "4 1503960366 4/15/2016     9762      6.28          6.28           \n",
       "5 1503960366 4/16/2016    12669      8.16          8.16           \n",
       "6 1503960366 4/17/2016     9705      6.48          6.48           \n",
       "  LoggedActivitiesDistance VeryActiveDistance ModeratelyActiveDistance\n",
       "1 0                        1.88               0.55                    \n",
       "2 0                        1.57               0.69                    \n",
       "3 0                        2.44               0.40                    \n",
       "4 0                        2.14               1.26                    \n",
       "5 0                        2.71               0.41                    \n",
       "6 0                        3.19               0.78                    \n",
       "  LightActiveDistance SedentaryActiveDistance VeryActiveMinutes\n",
       "1 6.06                0                       25               \n",
       "2 4.71                0                       21               \n",
       "3 3.91                0                       30               \n",
       "4 2.83                0                       29               \n",
       "5 5.04                0                       36               \n",
       "6 2.51                0                       38               \n",
       "  FairlyActiveMinutes LightlyActiveMinutes SedentaryMinutes Calories Date      \n",
       "1 13                  328                   728             1985     2016-04-12\n",
       "2 19                  217                   776             1797     2016-04-13\n",
       "3 11                  181                  1218             1776     2016-04-14\n",
       "4 34                  209                   726             1745     2016-04-15\n",
       "5 10                  221                   773             1863     2016-04-16\n",
       "6 20                  164                   539             1728     2016-04-17\n",
       "  Weekday  \n",
       "1 Tuesday  \n",
       "2 Wednesday\n",
       "3 Thursday \n",
       "4 Friday   \n",
       "5 Saturday \n",
       "6 Sunday   "
      ]
     },
     "metadata": {},
     "output_type": "display_data"
    },
    {
     "name": "stdout",
     "output_type": "stream",
     "text": [
      "Observations: 940\n",
      "Variables: 17\n",
      "$ Id                       <dbl> 1503960366, 1503960366, 1503960366, 150396...\n",
      "$ ActivityDate             <chr> \"4/12/2016\", \"4/13/2016\", \"4/14/2016\", \"4/...\n",
      "$ TotalSteps               <dbl> 13162, 10735, 10460, 9762, 12669, 9705, 13...\n",
      "$ TotalDistance            <dbl> 8.50, 6.97, 6.74, 6.28, 8.16, 6.48, 8.59, ...\n",
      "$ TrackerDistance          <dbl> 8.50, 6.97, 6.74, 6.28, 8.16, 6.48, 8.59, ...\n",
      "$ LoggedActivitiesDistance <dbl> 0, 0, 0, 0, 0, 0, 0, 0, 0, 0, 0, 0, 0, 0, ...\n",
      "$ VeryActiveDistance       <dbl> 1.88, 1.57, 2.44, 2.14, 2.71, 3.19, 3.25, ...\n",
      "$ ModeratelyActiveDistance <dbl> 0.55, 0.69, 0.40, 1.26, 0.41, 0.78, 0.64, ...\n",
      "$ LightActiveDistance      <dbl> 6.06, 4.71, 3.91, 2.83, 5.04, 2.51, 4.71, ...\n",
      "$ SedentaryActiveDistance  <dbl> 0, 0, 0, 0, 0, 0, 0, 0, 0, 0, 0, 0, 0, 0, ...\n",
      "$ VeryActiveMinutes        <dbl> 25, 21, 30, 29, 36, 38, 42, 50, 28, 19, 66...\n",
      "$ FairlyActiveMinutes      <dbl> 13, 19, 11, 34, 10, 20, 16, 31, 12, 8, 27,...\n",
      "$ LightlyActiveMinutes     <dbl> 328, 217, 181, 209, 221, 164, 233, 264, 20...\n",
      "$ SedentaryMinutes         <dbl> 728, 776, 1218, 726, 773, 539, 1149, 775, ...\n",
      "$ Calories                 <dbl> 1985, 1797, 1776, 1745, 1863, 1728, 1921, ...\n",
      "$ Date                     <date> 2016-04-12, 2016-04-13, 2016-04-14, 2016-...\n",
      "$ Weekday                  <chr> \"Tuesday\", \"Wednesday\", \"Thursday\", \"Frida...\n"
     ]
    }
   ],
   "source": [
    "head(daily_activity)\n",
    "glimpse(daily_activity)"
   ]
  },
  {
   "cell_type": "code",
   "execution_count": 13,
   "id": "eaed56c3",
   "metadata": {},
   "outputs": [
    {
     "data": {
      "text/html": [
       "<table>\n",
       "<thead><tr><th scope=col>Id</th><th scope=col>ActivityHour</th><th scope=col>Calories</th><th scope=col>Date</th><th scope=col>Time</th><th scope=col>Weekday</th></tr></thead>\n",
       "<tbody>\n",
       "\t<tr><td>1503960366           </td><td>4/12/2016 12:00:00 AM</td><td>81                   </td><td>2016-04-12           </td><td>00:00:00             </td><td>Tuesday              </td></tr>\n",
       "\t<tr><td>1503960366           </td><td>4/12/2016 1:00:00 AM </td><td>61                   </td><td>2016-04-12           </td><td>01:00:00             </td><td>Tuesday              </td></tr>\n",
       "\t<tr><td>1503960366           </td><td>4/12/2016 2:00:00 AM </td><td>59                   </td><td>2016-04-12           </td><td>02:00:00             </td><td>Tuesday              </td></tr>\n",
       "\t<tr><td>1503960366           </td><td>4/12/2016 3:00:00 AM </td><td>47                   </td><td>2016-04-12           </td><td>03:00:00             </td><td>Tuesday              </td></tr>\n",
       "\t<tr><td>1503960366           </td><td>4/12/2016 4:00:00 AM </td><td>48                   </td><td>2016-04-12           </td><td>04:00:00             </td><td>Tuesday              </td></tr>\n",
       "\t<tr><td>1503960366           </td><td>4/12/2016 5:00:00 AM </td><td>48                   </td><td>2016-04-12           </td><td>05:00:00             </td><td>Tuesday              </td></tr>\n",
       "</tbody>\n",
       "</table>\n"
      ],
      "text/latex": [
       "\\begin{tabular}{r|llllll}\n",
       " Id & ActivityHour & Calories & Date & Time & Weekday\\\\\n",
       "\\hline\n",
       "\t 1503960366            & 4/12/2016 12:00:00 AM & 81                    & 2016-04-12            & 00:00:00              & Tuesday              \\\\\n",
       "\t 1503960366            & 4/12/2016 1:00:00 AM  & 61                    & 2016-04-12            & 01:00:00              & Tuesday              \\\\\n",
       "\t 1503960366            & 4/12/2016 2:00:00 AM  & 59                    & 2016-04-12            & 02:00:00              & Tuesday              \\\\\n",
       "\t 1503960366            & 4/12/2016 3:00:00 AM  & 47                    & 2016-04-12            & 03:00:00              & Tuesday              \\\\\n",
       "\t 1503960366            & 4/12/2016 4:00:00 AM  & 48                    & 2016-04-12            & 04:00:00              & Tuesday              \\\\\n",
       "\t 1503960366            & 4/12/2016 5:00:00 AM  & 48                    & 2016-04-12            & 05:00:00              & Tuesday              \\\\\n",
       "\\end{tabular}\n"
      ],
      "text/markdown": [
       "\n",
       "| Id | ActivityHour | Calories | Date | Time | Weekday |\n",
       "|---|---|---|---|---|---|\n",
       "| 1503960366            | 4/12/2016 12:00:00 AM | 81                    | 2016-04-12            | 00:00:00              | Tuesday               |\n",
       "| 1503960366            | 4/12/2016 1:00:00 AM  | 61                    | 2016-04-12            | 01:00:00              | Tuesday               |\n",
       "| 1503960366            | 4/12/2016 2:00:00 AM  | 59                    | 2016-04-12            | 02:00:00              | Tuesday               |\n",
       "| 1503960366            | 4/12/2016 3:00:00 AM  | 47                    | 2016-04-12            | 03:00:00              | Tuesday               |\n",
       "| 1503960366            | 4/12/2016 4:00:00 AM  | 48                    | 2016-04-12            | 04:00:00              | Tuesday               |\n",
       "| 1503960366            | 4/12/2016 5:00:00 AM  | 48                    | 2016-04-12            | 05:00:00              | Tuesday               |\n",
       "\n"
      ],
      "text/plain": [
       "  Id         ActivityHour          Calories Date       Time     Weekday\n",
       "1 1503960366 4/12/2016 12:00:00 AM 81       2016-04-12 00:00:00 Tuesday\n",
       "2 1503960366 4/12/2016 1:00:00 AM  61       2016-04-12 01:00:00 Tuesday\n",
       "3 1503960366 4/12/2016 2:00:00 AM  59       2016-04-12 02:00:00 Tuesday\n",
       "4 1503960366 4/12/2016 3:00:00 AM  47       2016-04-12 03:00:00 Tuesday\n",
       "5 1503960366 4/12/2016 4:00:00 AM  48       2016-04-12 04:00:00 Tuesday\n",
       "6 1503960366 4/12/2016 5:00:00 AM  48       2016-04-12 05:00:00 Tuesday"
      ]
     },
     "metadata": {},
     "output_type": "display_data"
    },
    {
     "name": "stdout",
     "output_type": "stream",
     "text": [
      "Observations: 22,099\n",
      "Variables: 6\n",
      "$ Id           <dbl> 1503960366, 1503960366, 1503960366, 1503960366, 150396...\n",
      "$ ActivityHour <fct> 4/12/2016 12:00:00 AM, 4/12/2016 1:00:00 AM, 4/12/2016...\n",
      "$ Calories     <int> 81, 61, 59, 47, 48, 48, 48, 47, 68, 141, 99, 76, 73, 6...\n",
      "$ Date         <date> 2016-04-12, 2016-04-12, 2016-04-12, 2016-04-12, 2016-...\n",
      "$ Time         <chr> \"00:00:00\", \"01:00:00\", \"02:00:00\", \"03:00:00\", \"04:00...\n",
      "$ Weekday      <chr> \"Tuesday\", \"Tuesday\", \"Tuesday\", \"Tuesday\", \"Tuesday\",...\n"
     ]
    }
   ],
   "source": [
    "hourly_calories$DateTime <- mdy_hms(hourly_calories$ActivityHour)\n",
    "hourly_calories <- hourly_calories %>% \n",
    "  separate(DateTime, c(\"Date\", \"Time\"), sep= \" \")\n",
    "hourly_calories$Date <- as.Date(hourly_calories$Date, format=\"%Y-%m-%d\") \n",
    "hourly_calories$Weekday <- weekdays(hourly_calories$Date)\n",
    "# hourly_calories$Time <- chron(times = hourly_calories$Time)\n",
    "head(hourly_calories)\n",
    "glimpse(hourly_calories)"
   ]
  },
  {
   "cell_type": "code",
   "execution_count": 14,
   "id": "52b0261d",
   "metadata": {},
   "outputs": [
    {
     "data": {
      "text/html": [
       "<table>\n",
       "<thead><tr><th scope=col>Id</th><th scope=col>ActivityHour</th><th scope=col>TotalIntensity</th><th scope=col>AverageIntensity</th><th scope=col>Date</th><th scope=col>Time</th><th scope=col>Weekday</th></tr></thead>\n",
       "<tbody>\n",
       "\t<tr><td>1503960366           </td><td>4/12/2016 12:00:00 AM</td><td>20                   </td><td>0.333333             </td><td>2016-04-12           </td><td>00:00:00             </td><td>Tuesday              </td></tr>\n",
       "\t<tr><td>1503960366           </td><td>4/12/2016 1:00:00 AM </td><td> 8                   </td><td>0.133333             </td><td>2016-04-12           </td><td>01:00:00             </td><td>Tuesday              </td></tr>\n",
       "\t<tr><td>1503960366           </td><td>4/12/2016 2:00:00 AM </td><td> 7                   </td><td>0.116667             </td><td>2016-04-12           </td><td>02:00:00             </td><td>Tuesday              </td></tr>\n",
       "\t<tr><td>1503960366           </td><td>4/12/2016 3:00:00 AM </td><td> 0                   </td><td>0.000000             </td><td>2016-04-12           </td><td>03:00:00             </td><td>Tuesday              </td></tr>\n",
       "\t<tr><td>1503960366           </td><td>4/12/2016 4:00:00 AM </td><td> 0                   </td><td>0.000000             </td><td>2016-04-12           </td><td>04:00:00             </td><td>Tuesday              </td></tr>\n",
       "\t<tr><td>1503960366           </td><td>4/12/2016 5:00:00 AM </td><td> 0                   </td><td>0.000000             </td><td>2016-04-12           </td><td>05:00:00             </td><td>Tuesday              </td></tr>\n",
       "</tbody>\n",
       "</table>\n"
      ],
      "text/latex": [
       "\\begin{tabular}{r|lllllll}\n",
       " Id & ActivityHour & TotalIntensity & AverageIntensity & Date & Time & Weekday\\\\\n",
       "\\hline\n",
       "\t 1503960366            & 4/12/2016 12:00:00 AM & 20                    & 0.333333              & 2016-04-12            & 00:00:00              & Tuesday              \\\\\n",
       "\t 1503960366            & 4/12/2016 1:00:00 AM  &  8                    & 0.133333              & 2016-04-12            & 01:00:00              & Tuesday              \\\\\n",
       "\t 1503960366            & 4/12/2016 2:00:00 AM  &  7                    & 0.116667              & 2016-04-12            & 02:00:00              & Tuesday              \\\\\n",
       "\t 1503960366            & 4/12/2016 3:00:00 AM  &  0                    & 0.000000              & 2016-04-12            & 03:00:00              & Tuesday              \\\\\n",
       "\t 1503960366            & 4/12/2016 4:00:00 AM  &  0                    & 0.000000              & 2016-04-12            & 04:00:00              & Tuesday              \\\\\n",
       "\t 1503960366            & 4/12/2016 5:00:00 AM  &  0                    & 0.000000              & 2016-04-12            & 05:00:00              & Tuesday              \\\\\n",
       "\\end{tabular}\n"
      ],
      "text/markdown": [
       "\n",
       "| Id | ActivityHour | TotalIntensity | AverageIntensity | Date | Time | Weekday |\n",
       "|---|---|---|---|---|---|---|\n",
       "| 1503960366            | 4/12/2016 12:00:00 AM | 20                    | 0.333333              | 2016-04-12            | 00:00:00              | Tuesday               |\n",
       "| 1503960366            | 4/12/2016 1:00:00 AM  |  8                    | 0.133333              | 2016-04-12            | 01:00:00              | Tuesday               |\n",
       "| 1503960366            | 4/12/2016 2:00:00 AM  |  7                    | 0.116667              | 2016-04-12            | 02:00:00              | Tuesday               |\n",
       "| 1503960366            | 4/12/2016 3:00:00 AM  |  0                    | 0.000000              | 2016-04-12            | 03:00:00              | Tuesday               |\n",
       "| 1503960366            | 4/12/2016 4:00:00 AM  |  0                    | 0.000000              | 2016-04-12            | 04:00:00              | Tuesday               |\n",
       "| 1503960366            | 4/12/2016 5:00:00 AM  |  0                    | 0.000000              | 2016-04-12            | 05:00:00              | Tuesday               |\n",
       "\n"
      ],
      "text/plain": [
       "  Id         ActivityHour          TotalIntensity AverageIntensity Date      \n",
       "1 1503960366 4/12/2016 12:00:00 AM 20             0.333333         2016-04-12\n",
       "2 1503960366 4/12/2016 1:00:00 AM   8             0.133333         2016-04-12\n",
       "3 1503960366 4/12/2016 2:00:00 AM   7             0.116667         2016-04-12\n",
       "4 1503960366 4/12/2016 3:00:00 AM   0             0.000000         2016-04-12\n",
       "5 1503960366 4/12/2016 4:00:00 AM   0             0.000000         2016-04-12\n",
       "6 1503960366 4/12/2016 5:00:00 AM   0             0.000000         2016-04-12\n",
       "  Time     Weekday\n",
       "1 00:00:00 Tuesday\n",
       "2 01:00:00 Tuesday\n",
       "3 02:00:00 Tuesday\n",
       "4 03:00:00 Tuesday\n",
       "5 04:00:00 Tuesday\n",
       "6 05:00:00 Tuesday"
      ]
     },
     "metadata": {},
     "output_type": "display_data"
    },
    {
     "name": "stdout",
     "output_type": "stream",
     "text": [
      "Observations: 22,099\n",
      "Variables: 7\n",
      "$ Id               <dbl> 1503960366, 1503960366, 1503960366, 1503960366, 15...\n",
      "$ ActivityHour     <fct> 4/12/2016 12:00:00 AM, 4/12/2016 1:00:00 AM, 4/12/...\n",
      "$ TotalIntensity   <int> 20, 8, 7, 0, 0, 0, 0, 0, 13, 30, 29, 12, 11, 6, 36...\n",
      "$ AverageIntensity <dbl> 0.333333, 0.133333, 0.116667, 0.000000, 0.000000, ...\n",
      "$ Date             <date> 2016-04-12, 2016-04-12, 2016-04-12, 2016-04-12, 2...\n",
      "$ Time             <chr> \"00:00:00\", \"01:00:00\", \"02:00:00\", \"03:00:00\", \"0...\n",
      "$ Weekday          <chr> \"Tuesday\", \"Tuesday\", \"Tuesday\", \"Tuesday\", \"Tuesd...\n"
     ]
    }
   ],
   "source": [
    "hourly_intensities$DateTime <- mdy_hms(hourly_intensities$ActivityHour)\n",
    "hourly_intensities <- hourly_intensities %>% \n",
    "  separate(DateTime, c(\"Date\", \"Time\"), sep= \" \")\n",
    "hourly_intensities$Date <- as.Date(hourly_intensities$Date, format=\"%Y-%m-%d\") \n",
    "hourly_intensities$Weekday <- weekdays(hourly_intensities$Date)\n",
    "#hourly_intensities$Time <- chron(times = hourly_intensities$Time)\n",
    "head(hourly_intensities)\n",
    "glimpse(hourly_intensities)"
   ]
  },
  {
   "cell_type": "code",
   "execution_count": 15,
   "id": "ee4c9bc2",
   "metadata": {},
   "outputs": [
    {
     "data": {
      "text/html": [
       "<table>\n",
       "<thead><tr><th scope=col>Id</th><th scope=col>ActivityHour</th><th scope=col>StepTotal</th><th scope=col>Date</th><th scope=col>Time</th><th scope=col>Weekday</th></tr></thead>\n",
       "<tbody>\n",
       "\t<tr><td>1503960366           </td><td>4/12/2016 12:00:00 AM</td><td>373                  </td><td>2016-04-12           </td><td>00:00:00             </td><td>Tuesday              </td></tr>\n",
       "\t<tr><td>1503960366           </td><td>4/12/2016 1:00:00 AM </td><td>160                  </td><td>2016-04-12           </td><td>01:00:00             </td><td>Tuesday              </td></tr>\n",
       "\t<tr><td>1503960366           </td><td>4/12/2016 2:00:00 AM </td><td>151                  </td><td>2016-04-12           </td><td>02:00:00             </td><td>Tuesday              </td></tr>\n",
       "\t<tr><td>1503960366           </td><td>4/12/2016 3:00:00 AM </td><td>  0                  </td><td>2016-04-12           </td><td>03:00:00             </td><td>Tuesday              </td></tr>\n",
       "\t<tr><td>1503960366           </td><td>4/12/2016 4:00:00 AM </td><td>  0                  </td><td>2016-04-12           </td><td>04:00:00             </td><td>Tuesday              </td></tr>\n",
       "\t<tr><td>1503960366           </td><td>4/12/2016 5:00:00 AM </td><td>  0                  </td><td>2016-04-12           </td><td>05:00:00             </td><td>Tuesday              </td></tr>\n",
       "</tbody>\n",
       "</table>\n"
      ],
      "text/latex": [
       "\\begin{tabular}{r|llllll}\n",
       " Id & ActivityHour & StepTotal & Date & Time & Weekday\\\\\n",
       "\\hline\n",
       "\t 1503960366            & 4/12/2016 12:00:00 AM & 373                   & 2016-04-12            & 00:00:00              & Tuesday              \\\\\n",
       "\t 1503960366            & 4/12/2016 1:00:00 AM  & 160                   & 2016-04-12            & 01:00:00              & Tuesday              \\\\\n",
       "\t 1503960366            & 4/12/2016 2:00:00 AM  & 151                   & 2016-04-12            & 02:00:00              & Tuesday              \\\\\n",
       "\t 1503960366            & 4/12/2016 3:00:00 AM  &   0                   & 2016-04-12            & 03:00:00              & Tuesday              \\\\\n",
       "\t 1503960366            & 4/12/2016 4:00:00 AM  &   0                   & 2016-04-12            & 04:00:00              & Tuesday              \\\\\n",
       "\t 1503960366            & 4/12/2016 5:00:00 AM  &   0                   & 2016-04-12            & 05:00:00              & Tuesday              \\\\\n",
       "\\end{tabular}\n"
      ],
      "text/markdown": [
       "\n",
       "| Id | ActivityHour | StepTotal | Date | Time | Weekday |\n",
       "|---|---|---|---|---|---|\n",
       "| 1503960366            | 4/12/2016 12:00:00 AM | 373                   | 2016-04-12            | 00:00:00              | Tuesday               |\n",
       "| 1503960366            | 4/12/2016 1:00:00 AM  | 160                   | 2016-04-12            | 01:00:00              | Tuesday               |\n",
       "| 1503960366            | 4/12/2016 2:00:00 AM  | 151                   | 2016-04-12            | 02:00:00              | Tuesday               |\n",
       "| 1503960366            | 4/12/2016 3:00:00 AM  |   0                   | 2016-04-12            | 03:00:00              | Tuesday               |\n",
       "| 1503960366            | 4/12/2016 4:00:00 AM  |   0                   | 2016-04-12            | 04:00:00              | Tuesday               |\n",
       "| 1503960366            | 4/12/2016 5:00:00 AM  |   0                   | 2016-04-12            | 05:00:00              | Tuesday               |\n",
       "\n"
      ],
      "text/plain": [
       "  Id         ActivityHour          StepTotal Date       Time     Weekday\n",
       "1 1503960366 4/12/2016 12:00:00 AM 373       2016-04-12 00:00:00 Tuesday\n",
       "2 1503960366 4/12/2016 1:00:00 AM  160       2016-04-12 01:00:00 Tuesday\n",
       "3 1503960366 4/12/2016 2:00:00 AM  151       2016-04-12 02:00:00 Tuesday\n",
       "4 1503960366 4/12/2016 3:00:00 AM    0       2016-04-12 03:00:00 Tuesday\n",
       "5 1503960366 4/12/2016 4:00:00 AM    0       2016-04-12 04:00:00 Tuesday\n",
       "6 1503960366 4/12/2016 5:00:00 AM    0       2016-04-12 05:00:00 Tuesday"
      ]
     },
     "metadata": {},
     "output_type": "display_data"
    },
    {
     "name": "stdout",
     "output_type": "stream",
     "text": [
      "Observations: 22,099\n",
      "Variables: 6\n",
      "$ Id           <dbl> 1503960366, 1503960366, 1503960366, 1503960366, 150396...\n",
      "$ ActivityHour <fct> 4/12/2016 12:00:00 AM, 4/12/2016 1:00:00 AM, 4/12/2016...\n",
      "$ StepTotal    <int> 373, 160, 151, 0, 0, 0, 0, 0, 250, 1864, 676, 360, 253...\n",
      "$ Date         <date> 2016-04-12, 2016-04-12, 2016-04-12, 2016-04-12, 2016-...\n",
      "$ Time         <chr> \"00:00:00\", \"01:00:00\", \"02:00:00\", \"03:00:00\", \"04:00...\n",
      "$ Weekday      <chr> \"Tuesday\", \"Tuesday\", \"Tuesday\", \"Tuesday\", \"Tuesday\",...\n"
     ]
    }
   ],
   "source": [
    "hourly_steps$DateTime <- mdy_hms(hourly_steps$ActivityHour)\n",
    "hourly_steps <- hourly_steps %>% \n",
    "  separate(DateTime, c(\"Date\", \"Time\"), sep= \" \")\n",
    "hourly_steps$Date <- as.Date(hourly_steps$Date, format=\"%Y-%m-%d\") \n",
    "hourly_steps$Weekday <- weekdays(hourly_steps$Date)\n",
    "#hourly_steps$Time <- chron(times = hourly_steps$Time)\n",
    "head(hourly_steps)\n",
    "glimpse(hourly_steps)"
   ]
  },
  {
   "cell_type": "code",
   "execution_count": 16,
   "id": "7664310a",
   "metadata": {},
   "outputs": [
    {
     "data": {
      "text/html": [
       "<table>\n",
       "<thead><tr><th scope=col>Id</th><th scope=col>SleepDay</th><th scope=col>TotalSleepRecords</th><th scope=col>TotalMinutesAsleep</th><th scope=col>TotalTimeInBed</th><th scope=col>Date</th><th scope=col>Weekday</th></tr></thead>\n",
       "<tbody>\n",
       "\t<tr><td>1503960366           </td><td>4/12/2016 12:00:00 AM</td><td>1                    </td><td>327                  </td><td>346                  </td><td>2016-04-12           </td><td>Tuesday              </td></tr>\n",
       "\t<tr><td>1503960366           </td><td>4/13/2016 12:00:00 AM</td><td>2                    </td><td>384                  </td><td>407                  </td><td>2016-04-13           </td><td>Wednesday            </td></tr>\n",
       "\t<tr><td>1503960366           </td><td>4/15/2016 12:00:00 AM</td><td>1                    </td><td>412                  </td><td>442                  </td><td>2016-04-15           </td><td>Friday               </td></tr>\n",
       "\t<tr><td>1503960366           </td><td>4/16/2016 12:00:00 AM</td><td>2                    </td><td>340                  </td><td>367                  </td><td>2016-04-16           </td><td>Saturday             </td></tr>\n",
       "\t<tr><td>1503960366           </td><td>4/17/2016 12:00:00 AM</td><td>1                    </td><td>700                  </td><td>712                  </td><td>2016-04-17           </td><td>Sunday               </td></tr>\n",
       "\t<tr><td>1503960366           </td><td>4/19/2016 12:00:00 AM</td><td>1                    </td><td>304                  </td><td>320                  </td><td>2016-04-19           </td><td>Tuesday              </td></tr>\n",
       "</tbody>\n",
       "</table>\n"
      ],
      "text/latex": [
       "\\begin{tabular}{r|lllllll}\n",
       " Id & SleepDay & TotalSleepRecords & TotalMinutesAsleep & TotalTimeInBed & Date & Weekday\\\\\n",
       "\\hline\n",
       "\t 1503960366            & 4/12/2016 12:00:00 AM & 1                     & 327                   & 346                   & 2016-04-12            & Tuesday              \\\\\n",
       "\t 1503960366            & 4/13/2016 12:00:00 AM & 2                     & 384                   & 407                   & 2016-04-13            & Wednesday            \\\\\n",
       "\t 1503960366            & 4/15/2016 12:00:00 AM & 1                     & 412                   & 442                   & 2016-04-15            & Friday               \\\\\n",
       "\t 1503960366            & 4/16/2016 12:00:00 AM & 2                     & 340                   & 367                   & 2016-04-16            & Saturday             \\\\\n",
       "\t 1503960366            & 4/17/2016 12:00:00 AM & 1                     & 700                   & 712                   & 2016-04-17            & Sunday               \\\\\n",
       "\t 1503960366            & 4/19/2016 12:00:00 AM & 1                     & 304                   & 320                   & 2016-04-19            & Tuesday              \\\\\n",
       "\\end{tabular}\n"
      ],
      "text/markdown": [
       "\n",
       "| Id | SleepDay | TotalSleepRecords | TotalMinutesAsleep | TotalTimeInBed | Date | Weekday |\n",
       "|---|---|---|---|---|---|---|\n",
       "| 1503960366            | 4/12/2016 12:00:00 AM | 1                     | 327                   | 346                   | 2016-04-12            | Tuesday               |\n",
       "| 1503960366            | 4/13/2016 12:00:00 AM | 2                     | 384                   | 407                   | 2016-04-13            | Wednesday             |\n",
       "| 1503960366            | 4/15/2016 12:00:00 AM | 1                     | 412                   | 442                   | 2016-04-15            | Friday                |\n",
       "| 1503960366            | 4/16/2016 12:00:00 AM | 2                     | 340                   | 367                   | 2016-04-16            | Saturday              |\n",
       "| 1503960366            | 4/17/2016 12:00:00 AM | 1                     | 700                   | 712                   | 2016-04-17            | Sunday                |\n",
       "| 1503960366            | 4/19/2016 12:00:00 AM | 1                     | 304                   | 320                   | 2016-04-19            | Tuesday               |\n",
       "\n"
      ],
      "text/plain": [
       "  Id         SleepDay              TotalSleepRecords TotalMinutesAsleep\n",
       "1 1503960366 4/12/2016 12:00:00 AM 1                 327               \n",
       "2 1503960366 4/13/2016 12:00:00 AM 2                 384               \n",
       "3 1503960366 4/15/2016 12:00:00 AM 1                 412               \n",
       "4 1503960366 4/16/2016 12:00:00 AM 2                 340               \n",
       "5 1503960366 4/17/2016 12:00:00 AM 1                 700               \n",
       "6 1503960366 4/19/2016 12:00:00 AM 1                 304               \n",
       "  TotalTimeInBed Date       Weekday  \n",
       "1 346            2016-04-12 Tuesday  \n",
       "2 407            2016-04-13 Wednesday\n",
       "3 442            2016-04-15 Friday   \n",
       "4 367            2016-04-16 Saturday \n",
       "5 712            2016-04-17 Sunday   \n",
       "6 320            2016-04-19 Tuesday  "
      ]
     },
     "metadata": {},
     "output_type": "display_data"
    },
    {
     "name": "stdout",
     "output_type": "stream",
     "text": [
      "Observations: 410\n",
      "Variables: 7\n",
      "$ Id                 <dbl> 1503960366, 1503960366, 1503960366, 1503960366, ...\n",
      "$ SleepDay           <fct> 4/12/2016 12:00:00 AM, 4/13/2016 12:00:00 AM, 4/...\n",
      "$ TotalSleepRecords  <int> 1, 2, 1, 2, 1, 1, 1, 1, 1, 1, 1, 1, 1, 1, 1, 1, ...\n",
      "$ TotalMinutesAsleep <int> 327, 384, 412, 340, 700, 304, 360, 325, 361, 430...\n",
      "$ TotalTimeInBed     <int> 346, 407, 442, 367, 712, 320, 377, 364, 384, 449...\n",
      "$ Date               <dttm> 2016-04-12, 2016-04-13, 2016-04-15, 2016-04-16,...\n",
      "$ Weekday            <chr> \"Tuesday\", \"Wednesday\", \"Friday\", \"Saturday\", \"S...\n"
     ]
    }
   ],
   "source": [
    "sleep_day$Date <-  mdy_hms(sleep_day$SleepDay)\n",
    "sleep_day$Weekday <- weekdays(sleep_day$Date)\n",
    "head(sleep_day)\n",
    "glimpse(sleep_day)"
   ]
  },
  {
   "cell_type": "markdown",
   "id": "7ca312f6",
   "metadata": {},
   "source": [
    "# # 2.4 Analyze"
   ]
  },
  {
   "cell_type": "markdown",
   "id": "4ad3b01c",
   "metadata": {},
   "source": [
    "- Find minimum and maximum date from these datasets \n",
    "- The result show that all dataset has the same start date and end date"
   ]
  },
  {
   "cell_type": "code",
   "execution_count": 17,
   "id": "9d2894b6",
   "metadata": {},
   "outputs": [
    {
     "data": {
      "text/html": [
       "<time datetime=\"2016-04-12\">2016-04-12</time>"
      ],
      "text/latex": [
       "2016-04-12"
      ],
      "text/markdown": [
       "2016-04-12"
      ],
      "text/plain": [
       "[1] \"2016-04-12\""
      ]
     },
     "metadata": {},
     "output_type": "display_data"
    },
    {
     "data": {
      "text/html": [
       "<time datetime=\"2016-05-12\">2016-05-12</time>"
      ],
      "text/latex": [
       "2016-05-12"
      ],
      "text/markdown": [
       "2016-05-12"
      ],
      "text/plain": [
       "[1] \"2016-05-12\""
      ]
     },
     "metadata": {},
     "output_type": "display_data"
    },
    {
     "data": {
      "text/html": [
       "<time datetime=\"2016-04-12\">2016-04-12</time>"
      ],
      "text/latex": [
       "2016-04-12"
      ],
      "text/markdown": [
       "2016-04-12"
      ],
      "text/plain": [
       "[1] \"2016-04-12\""
      ]
     },
     "metadata": {},
     "output_type": "display_data"
    },
    {
     "data": {
      "text/html": [
       "<time datetime=\"2016-05-12\">2016-05-12</time>"
      ],
      "text/latex": [
       "2016-05-12"
      ],
      "text/markdown": [
       "2016-05-12"
      ],
      "text/plain": [
       "[1] \"2016-05-12\""
      ]
     },
     "metadata": {},
     "output_type": "display_data"
    },
    {
     "data": {
      "text/html": [
       "<time datetime=\"2016-04-12\">2016-04-12</time>"
      ],
      "text/latex": [
       "2016-04-12"
      ],
      "text/markdown": [
       "2016-04-12"
      ],
      "text/plain": [
       "[1] \"2016-04-12\""
      ]
     },
     "metadata": {},
     "output_type": "display_data"
    },
    {
     "data": {
      "text/html": [
       "<time datetime=\"2016-05-12\">2016-05-12</time>"
      ],
      "text/latex": [
       "2016-05-12"
      ],
      "text/markdown": [
       "2016-05-12"
      ],
      "text/plain": [
       "[1] \"2016-05-12\""
      ]
     },
     "metadata": {},
     "output_type": "display_data"
    },
    {
     "data": {
      "text/html": [
       "<time datetime=\"2016-04-12\">2016-04-12</time>"
      ],
      "text/latex": [
       "2016-04-12"
      ],
      "text/markdown": [
       "2016-04-12"
      ],
      "text/plain": [
       "[1] \"2016-04-12\""
      ]
     },
     "metadata": {},
     "output_type": "display_data"
    },
    {
     "data": {
      "text/html": [
       "<time datetime=\"2016-05-12\">2016-05-12</time>"
      ],
      "text/latex": [
       "2016-05-12"
      ],
      "text/markdown": [
       "2016-05-12"
      ],
      "text/plain": [
       "[1] \"2016-05-12\""
      ]
     },
     "metadata": {},
     "output_type": "display_data"
    },
    {
     "data": {
      "text/plain": [
       "[1] \"2016-04-12 UTC\""
      ]
     },
     "metadata": {},
     "output_type": "display_data"
    },
    {
     "data": {
      "text/plain": [
       "[1] \"2016-05-12 UTC\""
      ]
     },
     "metadata": {},
     "output_type": "display_data"
    }
   ],
   "source": [
    "min(daily_activity$Date)\n",
    "max(daily_activity$Date)\n",
    "\n",
    "min(hourly_calories$Date)\n",
    "max(hourly_calories$Date)\n",
    "\n",
    "min(hourly_intensities$Date)\n",
    "max(hourly_intensities$Date)\n",
    "\n",
    "min(hourly_steps$Date)\n",
    "max(hourly_steps$Date)\n",
    "\n",
    "min(sleep_day$Date)\n",
    "max(sleep_day$Date)\n"
   ]
  },
  {
   "cell_type": "markdown",
   "id": "0af78a09",
   "metadata": {},
   "source": [
    "- Exploreing from each dataset"
   ]
  },
  {
   "cell_type": "markdown",
   "id": "cc2969f1",
   "metadata": {},
   "source": [
    "- Users took 8319 step/day and burned 2361 kcal in average "
   ]
  },
  {
   "cell_type": "code",
   "execution_count": 18,
   "id": "966db28d",
   "metadata": {},
   "outputs": [
    {
     "data": {
      "text/plain": [
       "   TotalSteps       Calories   \n",
       " Min.   :    4   Min.   :  52  \n",
       " 1st Qu.: 4923   1st Qu.:1856  \n",
       " Median : 8053   Median :2220  \n",
       " Mean   : 8319   Mean   :2361  \n",
       " 3rd Qu.:11092   3rd Qu.:2832  \n",
       " Max.   :36019   Max.   :4900  "
      ]
     },
     "metadata": {},
     "output_type": "display_data"
    }
   ],
   "source": [
    "daily_activity %>% \n",
    "  filter(TotalSteps != 0)  %>% \n",
    "  select(TotalSteps, Calories) %>% \n",
    "  summary()"
   ]
  },
  {
   "cell_type": "markdown",
   "id": "71fb1edc",
   "metadata": {},
   "source": [
    "- SedentaryMinutes is higest compare to other\n",
    "- Almost time is inactive, should be alert to user to say \"be active\" "
   ]
  },
  {
   "cell_type": "code",
   "execution_count": 19,
   "id": "82fcb9a0",
   "metadata": {},
   "outputs": [
    {
     "data": {
      "text/plain": [
       " SedentaryMinutes LightlyActiveMinutes FairlyActiveMinutes VeryActiveMinutes\n",
       " Min.   :   0.0   Min.   :  0.0        Min.   :  0.00      Min.   :  0.00   \n",
       " 1st Qu.: 729.8   1st Qu.:127.0        1st Qu.:  0.00      1st Qu.:  0.00   \n",
       " Median :1057.5   Median :199.0        Median :  6.00      Median :  4.00   \n",
       " Mean   : 991.2   Mean   :192.8        Mean   : 13.56      Mean   : 21.16   \n",
       " 3rd Qu.:1229.5   3rd Qu.:264.0        3rd Qu.: 19.00      3rd Qu.: 32.00   \n",
       " Max.   :1440.0   Max.   :518.0        Max.   :143.00      Max.   :210.00   "
      ]
     },
     "metadata": {},
     "output_type": "display_data"
    }
   ],
   "source": [
    "daily_activity %>%  \n",
    "  select(SedentaryMinutes, LightlyActiveMinutes, FairlyActiveMinutes, VeryActiveMinutes) %>% \n",
    "  summary()"
   ]
  },
  {
   "cell_type": "markdown",
   "id": "a32fc58a",
   "metadata": {},
   "source": [
    "- Users sleep 1 time in everage\n",
    "- More than 1 time imply that they took a nap\n",
    "- Users took 458.5 minute (7.6 hour) on the bed and took 419.2 minute (6.9 hour) to fall asleep"
   ]
  },
  {
   "cell_type": "code",
   "execution_count": 20,
   "id": "df1c8d90",
   "metadata": {},
   "outputs": [
    {
     "data": {
      "text/plain": [
       " TotalSleepRecords TotalMinutesAsleep TotalTimeInBed \n",
       " Min.   :1.00      Min.   : 58.0      Min.   : 61.0  \n",
       " 1st Qu.:1.00      1st Qu.:361.0      1st Qu.:403.8  \n",
       " Median :1.00      Median :432.5      Median :463.0  \n",
       " Mean   :1.12      Mean   :419.2      Mean   :458.5  \n",
       " 3rd Qu.:1.00      3rd Qu.:490.0      3rd Qu.:526.0  \n",
       " Max.   :3.00      Max.   :796.0      Max.   :961.0  "
      ]
     },
     "metadata": {},
     "output_type": "display_data"
    }
   ],
   "source": [
    "sleep_day %>% \n",
    "  select(TotalSleepRecords, TotalMinutesAsleep, TotalTimeInBed) %>% \n",
    "  summary()"
   ]
  },
  {
   "cell_type": "markdown",
   "id": "bb104e48",
   "metadata": {},
   "source": [
    "- Merging data between activity daily and sleep for both inner and outer"
   ]
  },
  {
   "cell_type": "code",
   "execution_count": 67,
   "id": "844e1f8e",
   "metadata": {},
   "outputs": [],
   "source": [
    "#Not used\n",
    "merged_outer <- merge(daily_activity, sleep_day, by= c(\"Id\" = \"Id\", \"Date\" = \"Date\"), all = TRUE)\n",
    "merged_inner <- merge(daily_activity, sleep_day, by= c(\"Id\" = \"Id\", \"Date\" = \"Date\"))\n"
   ]
  },
  {
   "cell_type": "code",
   "execution_count": 23,
   "id": "5b2da41b",
   "metadata": {},
   "outputs": [
    {
     "data": {
      "text/html": [
       "940"
      ],
      "text/latex": [
       "940"
      ],
      "text/markdown": [
       "940"
      ],
      "text/plain": [
       "[1] 940"
      ]
     },
     "metadata": {},
     "output_type": "display_data"
    },
    {
     "data": {
      "text/html": [
       "410"
      ],
      "text/latex": [
       "410"
      ],
      "text/markdown": [
       "410"
      ],
      "text/plain": [
       "[1] 410"
      ]
     },
     "metadata": {},
     "output_type": "display_data"
    },
    {
     "data": {
      "text/html": [
       "33"
      ],
      "text/latex": [
       "33"
      ],
      "text/markdown": [
       "33"
      ],
      "text/plain": [
       "[1] 33"
      ]
     },
     "metadata": {},
     "output_type": "display_data"
    },
    {
     "data": {
      "text/html": [
       "24"
      ],
      "text/latex": [
       "24"
      ],
      "text/markdown": [
       "24"
      ],
      "text/plain": [
       "[1] 24"
      ]
     },
     "metadata": {},
     "output_type": "display_data"
    }
   ],
   "source": [
    "nrow(merged_outer)\n",
    "nrow(merged_inner)\n",
    "\n",
    "n_distinct(merged_outer$Id)\n",
    "n_distinct(merged_inner$Id)"
   ]
  },
  {
   "cell_type": "markdown",
   "id": "8186cabf",
   "metadata": {},
   "source": [
    "# # 2.5 Share"
   ]
  },
  {
   "cell_type": "markdown",
   "id": "4588f28a",
   "metadata": {},
   "source": [
    "Daily data"
   ]
  },
  {
   "cell_type": "code",
   "execution_count": 24,
   "id": "062120b5",
   "metadata": {},
   "outputs": [
    {
     "data": {
      "text/html": [
       "<table>\n",
       "<thead><tr><th scope=col>Weekday</th><th scope=col>avg_total_steps</th></tr></thead>\n",
       "<tbody>\n",
       "\t<tr><td>Friday  </td><td>7820.642</td></tr>\n",
       "\t<tr><td>Monday  </td><td>8488.218</td></tr>\n",
       "\t<tr><td>Saturday</td><td>8946.628</td></tr>\n",
       "\t<tr><td>Sunday  </td><td>7626.555</td></tr>\n",
       "\t<tr><td>Thursday</td><td>8185.398</td></tr>\n",
       "\t<tr><td>Tuesday </td><td>8949.283</td></tr>\n",
       "</tbody>\n",
       "</table>\n"
      ],
      "text/latex": [
       "\\begin{tabular}{r|ll}\n",
       " Weekday & avg\\_total\\_steps\\\\\n",
       "\\hline\n",
       "\t Friday   & 7820.642\\\\\n",
       "\t Monday   & 8488.218\\\\\n",
       "\t Saturday & 8946.628\\\\\n",
       "\t Sunday   & 7626.555\\\\\n",
       "\t Thursday & 8185.398\\\\\n",
       "\t Tuesday  & 8949.283\\\\\n",
       "\\end{tabular}\n"
      ],
      "text/markdown": [
       "\n",
       "| Weekday | avg_total_steps |\n",
       "|---|---|\n",
       "| Friday   | 7820.642 |\n",
       "| Monday   | 8488.218 |\n",
       "| Saturday | 8946.628 |\n",
       "| Sunday   | 7626.555 |\n",
       "| Thursday | 8185.398 |\n",
       "| Tuesday  | 8949.283 |\n",
       "\n"
      ],
      "text/plain": [
       "  Weekday  avg_total_steps\n",
       "1 Friday   7820.642       \n",
       "2 Monday   8488.218       \n",
       "3 Saturday 8946.628       \n",
       "4 Sunday   7626.555       \n",
       "5 Thursday 8185.398       \n",
       "6 Tuesday  8949.283       "
      ]
     },
     "metadata": {},
     "output_type": "display_data"
    }
   ],
   "source": [
    "total_steps_days <- daily_activity %>% \n",
    "    filter(TotalSteps !=0) %>% \n",
    "    group_by(Weekday) %>% \n",
    "    mutate(Day = factor(Weekday, levels = c('Monday', 'Tuesday', 'Wednesday', 'Thursday', 'Friday', 'Saturday', 'Sunday'))) %>% \n",
    "    summarize(avg_total_steps = mean(TotalSteps))\n",
    "head(total_steps_days)"
   ]
  },
  {
   "cell_type": "markdown",
   "id": "b3e77604",
   "metadata": {},
   "source": [
    "- The result shows that user most active on Saturday and least active on Sunday\n",
    "- It imply that user pay attention to take a rest on Sunday "
   ]
  },
  {
   "cell_type": "code",
   "execution_count": 25,
   "id": "614bf9b9",
   "metadata": {},
   "outputs": [
    {
     "data": {
      "image/png": "[encoded data removed]",
      "text/plain": [
       "plot without title"
      ]
     },
     "metadata": {},
     "output_type": "display_data"
    }
   ],
   "source": [
    "ggplot(total_steps_days, aes(x = Weekday, y = avg_total_steps)) +\n",
    "    geom_bar(stat = \"identity\", aes(fill = avg_total_steps)) +\n",
    "    scale_fill_continuous(limits = c(0, 9000)) + \n",
    "    geom_hline(yintercept = mean(total_steps_days$avg_total_steps), linetype=\"dashed\", color = \"red\") +\n",
    "    theme_bw() +\n",
    "    labs(title = \"Total Steps vs. Days\", x = \"Days\", y = \"Total Steps\", fill = \"Steps\")"
   ]
  },
  {
   "cell_type": "code",
   "execution_count": 26,
   "id": "7846388a",
   "metadata": {},
   "outputs": [
    {
     "data": {
      "text/html": [
       "<table>\n",
       "<thead><tr><th scope=col>Weekday</th><th scope=col>avg_calories</th></tr></thead>\n",
       "<tbody>\n",
       "\t<tr><td>Friday  </td><td>2331.786</td></tr>\n",
       "\t<tr><td>Monday  </td><td>2324.208</td></tr>\n",
       "\t<tr><td>Saturday</td><td>2354.968</td></tr>\n",
       "\t<tr><td>Sunday  </td><td>2263.000</td></tr>\n",
       "\t<tr><td>Thursday</td><td>2199.571</td></tr>\n",
       "\t<tr><td>Tuesday </td><td>2356.013</td></tr>\n",
       "</tbody>\n",
       "</table>\n"
      ],
      "text/latex": [
       "\\begin{tabular}{r|ll}\n",
       " Weekday & avg\\_calories\\\\\n",
       "\\hline\n",
       "\t Friday   & 2331.786\\\\\n",
       "\t Monday   & 2324.208\\\\\n",
       "\t Saturday & 2354.968\\\\\n",
       "\t Sunday   & 2263.000\\\\\n",
       "\t Thursday & 2199.571\\\\\n",
       "\t Tuesday  & 2356.013\\\\\n",
       "\\end{tabular}\n"
      ],
      "text/markdown": [
       "\n",
       "| Weekday | avg_calories |\n",
       "|---|---|\n",
       "| Friday   | 2331.786 |\n",
       "| Monday   | 2324.208 |\n",
       "| Saturday | 2354.968 |\n",
       "| Sunday   | 2263.000 |\n",
       "| Thursday | 2199.571 |\n",
       "| Tuesday  | 2356.013 |\n",
       "\n"
      ],
      "text/plain": [
       "  Weekday  avg_calories\n",
       "1 Friday   2331.786    \n",
       "2 Monday   2324.208    \n",
       "3 Saturday 2354.968    \n",
       "4 Sunday   2263.000    \n",
       "5 Thursday 2199.571    \n",
       "6 Tuesday  2356.013    "
      ]
     },
     "metadata": {},
     "output_type": "display_data"
    }
   ],
   "source": [
    "calories_days <- daily_activity %>% \n",
    "    group_by(Weekday) %>% \n",
    "    mutate(Day = factor(Weekday, levels = c('Monday', 'Tuesday', 'Wednesday', 'Thursday', 'Friday', 'Saturday', 'Sunday'))) %>% \n",
    "    summarize(avg_calories = mean(Calories))\n",
    "head(calories_days)"
   ]
  },
  {
   "cell_type": "markdown",
   "id": "d7be4c1c",
   "metadata": {},
   "source": [
    "- The most burning of calories is on Saturday similay to most step"
   ]
  },
  {
   "cell_type": "code",
   "execution_count": 27,
   "id": "492e640e",
   "metadata": {},
   "outputs": [
    {
     "data": {
      "image/png": "[encoded data removed]",
      "text/plain": [
       "plot without title"
      ]
     },
     "metadata": {},
     "output_type": "display_data"
    }
   ],
   "source": [
    "ggplot(calories_days, aes(x = Weekday, y = avg_calories)) +\n",
    "    geom_bar(stat = \"identity\", aes(fill = avg_calories)) +\n",
    "    scale_fill_continuous(limits = c(0, 3000)) + \n",
    "    geom_hline(yintercept = mean(calories_days$avg_calories), linetype=\"dashed\", color = \"red\") +\n",
    "    theme_bw() +\n",
    "    labs(title = \"Calories burned vs. Days\", x = \"Days\", y = \"Calories(kcal)\", fill = \"kcal\")"
   ]
  },
  {
   "cell_type": "code",
   "execution_count": 42,
   "id": "b5cc18fe",
   "metadata": {
    "scrolled": true
   },
   "outputs": [
    {
     "data": {
      "text/html": [
       "<table>\n",
       "<thead><tr><th scope=col>total_min</th></tr></thead>\n",
       "<tbody>\n",
       "\t<tr><td>1145628</td></tr>\n",
       "</tbody>\n",
       "</table>\n"
      ],
      "text/latex": [
       "\\begin{tabular}{r|l}\n",
       " total\\_min\\\\\n",
       "\\hline\n",
       "\t 1145628\\\\\n",
       "\\end{tabular}\n"
      ],
      "text/markdown": [
       "\n",
       "| total_min |\n",
       "|---|\n",
       "| 1145628 |\n",
       "\n"
      ],
      "text/plain": [
       "  total_min\n",
       "1 1145628  "
      ]
     },
     "metadata": {},
     "output_type": "display_data"
    }
   ],
   "source": [
    "total_min_active <- daily_activity %>% \n",
    "    summarise(total_min = sum(daily_activity$SedentaryMinutes) + sum(daily_activity$LightlyActiveMinutes) + sum(daily_activity$FairlyActiveMinutes) + sum(daily_activity$VeryActiveMinutes))\n",
    "total_min_active"
   ]
  },
  {
   "cell_type": "code",
   "execution_count": 51,
   "id": "dabf5c25",
   "metadata": {},
   "outputs": [
    {
     "data": {
      "text/html": [
       "1145628"
      ],
      "text/latex": [
       "1145628"
      ],
      "text/markdown": [
       "1145628"
      ],
      "text/plain": [
       "[1] 1145628"
      ]
     },
     "metadata": {},
     "output_type": "display_data"
    }
   ],
   "source": [
    "total_min_active$total_min"
   ]
  },
  {
   "cell_type": "code",
   "execution_count": 53,
   "id": "eca001a5",
   "metadata": {},
   "outputs": [
    {
     "data": {
      "text/html": [
       "<table>\n",
       "<thead><tr><th scope=col>level</th><th scope=col>minutes</th><th scope=col>Percent</th></tr></thead>\n",
       "<tbody>\n",
       "\t<tr><td>Sedentary  </td><td>931738     </td><td>81.329891  </td></tr>\n",
       "\t<tr><td>Lightly    </td><td>181244     </td><td>15.820493  </td></tr>\n",
       "\t<tr><td>Fairly     </td><td> 12751     </td><td> 1.113014  </td></tr>\n",
       "\t<tr><td>Very Active</td><td> 19895     </td><td> 1.736602  </td></tr>\n",
       "</tbody>\n",
       "</table>\n"
      ],
      "text/latex": [
       "\\begin{tabular}{r|lll}\n",
       " level & minutes & Percent\\\\\n",
       "\\hline\n",
       "\t Sedentary   & 931738      & 81.329891  \\\\\n",
       "\t Lightly     & 181244      & 15.820493  \\\\\n",
       "\t Fairly      &  12751      &  1.113014  \\\\\n",
       "\t Very Active &  19895      &  1.736602  \\\\\n",
       "\\end{tabular}\n"
      ],
      "text/markdown": [
       "\n",
       "| level | minutes | Percent |\n",
       "|---|---|---|\n",
       "| Sedentary   | 931738      | 81.329891   |\n",
       "| Lightly     | 181244      | 15.820493   |\n",
       "| Fairly      |  12751      |  1.113014   |\n",
       "| Very Active |  19895      |  1.736602   |\n",
       "\n"
      ],
      "text/plain": [
       "  level       minutes Percent  \n",
       "1 Sedentary   931738  81.329891\n",
       "2 Lightly     181244  15.820493\n",
       "3 Fairly       12751   1.113014\n",
       "4 Very Active  19895   1.736602"
      ]
     },
     "metadata": {},
     "output_type": "display_data"
    }
   ],
   "source": [
    "percentage <- data.frame(\n",
    "  level=c(\"Sedentary\", \"Lightly\", \"Fairly\", \"Very Active\"),\n",
    "  minutes=c(sum(daily_activity$SedentaryMinutes), sum(daily_activity$LightlyActiveMinutes), sum(daily_activity$FairlyActiveMinutes), sum(daily_activity$VeryActiveMinutes)),\n",
    "  Percent=c(sum(daily_activity$SedentaryMinutes)/total_min_active$total_min*100, sum(daily_activity$LightlyActiveMinutes)/total_min_active$total_min*100, sum(daily_activity$FairlyActiveMinutes)/total_min_active$total_min*100, sum(daily_activity$VeryActiveMinutes)/total_min_active$total_min*100)  \n",
    ")\n",
    "percentage"
   ]
  },
  {
   "cell_type": "markdown",
   "id": "0157cfe6",
   "metadata": {},
   "source": [
    "- In term of activities group user are most Sedentary compared to other "
   ]
  },
  {
   "cell_type": "code",
   "execution_count": 54,
   "id": "d93225b0",
   "metadata": {},
   "outputs": [
    {
     "data": {
      "image/png": "[encoded data removed]",
      "text/plain": [
       "plot without title"
      ]
     },
     "metadata": {},
     "output_type": "display_data"
    }
   ],
   "source": [
    "ggplot(percentage, aes(x=\"\", y=Percent, fill=level)) +\n",
    "  geom_bar(stat=\"identity\", width=1) +\n",
    "  coord_polar(\"y\", start=0)+\n",
    "  theme_void()"
   ]
  },
  {
   "cell_type": "code",
   "execution_count": 55,
   "id": "8efb623d",
   "metadata": {},
   "outputs": [
    {
     "data": {
      "text/html": [
       "<table>\n",
       "<thead><tr><th scope=col>Weekday</th><th scope=col>avg_sleep</th></tr></thead>\n",
       "<tbody>\n",
       "\t<tr><td>Friday  </td><td>405.4211</td></tr>\n",
       "\t<tr><td>Monday  </td><td>419.5000</td></tr>\n",
       "\t<tr><td>Saturday</td><td>419.0702</td></tr>\n",
       "\t<tr><td>Sunday  </td><td>452.7455</td></tr>\n",
       "\t<tr><td>Thursday</td><td>401.2969</td></tr>\n",
       "\t<tr><td>Tuesday </td><td>404.5385</td></tr>\n",
       "</tbody>\n",
       "</table>\n"
      ],
      "text/latex": [
       "\\begin{tabular}{r|ll}\n",
       " Weekday & avg\\_sleep\\\\\n",
       "\\hline\n",
       "\t Friday   & 405.4211\\\\\n",
       "\t Monday   & 419.5000\\\\\n",
       "\t Saturday & 419.0702\\\\\n",
       "\t Sunday   & 452.7455\\\\\n",
       "\t Thursday & 401.2969\\\\\n",
       "\t Tuesday  & 404.5385\\\\\n",
       "\\end{tabular}\n"
      ],
      "text/markdown": [
       "\n",
       "| Weekday | avg_sleep |\n",
       "|---|---|\n",
       "| Friday   | 405.4211 |\n",
       "| Monday   | 419.5000 |\n",
       "| Saturday | 419.0702 |\n",
       "| Sunday   | 452.7455 |\n",
       "| Thursday | 401.2969 |\n",
       "| Tuesday  | 404.5385 |\n",
       "\n"
      ],
      "text/plain": [
       "  Weekday  avg_sleep\n",
       "1 Friday   405.4211 \n",
       "2 Monday   419.5000 \n",
       "3 Saturday 419.0702 \n",
       "4 Sunday   452.7455 \n",
       "5 Thursday 401.2969 \n",
       "6 Tuesday  404.5385 "
      ]
     },
     "metadata": {},
     "output_type": "display_data"
    }
   ],
   "source": [
    "sleep_day2 <- sleep_day %>% \n",
    "    group_by(Weekday) %>% \n",
    "    mutate(Day = factor(Weekday, levels = c('Monday', 'Tuesday', 'Wednesday', 'Thursday', 'Friday', 'Saturday', 'Sunday'))) %>% \n",
    "    summarize(avg_sleep = mean(TotalMinutesAsleep))\n",
    "head(sleep_day2)"
   ]
  },
  {
   "cell_type": "markdown",
   "id": "9deb6095",
   "metadata": {},
   "source": [
    "- The result show that sleep time in each day is similay to average around 7 hours.\n",
    "- The sleep time is enough but need to find sleep quality to recheck again\n",
    "- Some user didn't wear smart device during sleep time "
   ]
  },
  {
   "cell_type": "code",
   "execution_count": 30,
   "id": "cc54b58f",
   "metadata": {},
   "outputs": [
    {
     "data": {
      "image/png": "[encoded data removed]",
      "text/plain": [
       "plot without title"
      ]
     },
     "metadata": {},
     "output_type": "display_data"
    }
   ],
   "source": [
    "ggplot(sleep_day2, aes(x = Weekday, y = avg_sleep)) +\n",
    "    geom_bar(stat = \"identity\", aes(fill = avg_sleep)) +\n",
    "    scale_fill_continuous(limits = c(0, 500)) + \n",
    "    geom_hline(yintercept = mean(sleep_day2$avg_sleep), linetype=\"dashed\", color = \"red\") +\n",
    "    theme_bw() +\n",
    "    labs(title = \"sleep minutes vs. Days\", x = \"Days\", y = \"time(minute)\", fill = \"minute\")"
   ]
  },
  {
   "cell_type": "markdown",
   "id": "4c4f58aa",
   "metadata": {},
   "source": [
    "Hourly data"
   ]
  },
  {
   "cell_type": "code",
   "execution_count": 31,
   "id": "a5d5847c",
   "metadata": {},
   "outputs": [
    {
     "data": {
      "text/html": [
       "<table>\n",
       "<thead><tr><th scope=col>Time</th><th scope=col>avg_step_total</th></tr></thead>\n",
       "<tbody>\n",
       "\t<tr><td>00:00:00 </td><td>42.188437</td></tr>\n",
       "\t<tr><td>01:00:00 </td><td>23.102894</td></tr>\n",
       "\t<tr><td>02:00:00 </td><td>17.110397</td></tr>\n",
       "\t<tr><td>03:00:00 </td><td> 6.426581</td></tr>\n",
       "\t<tr><td>04:00:00 </td><td>12.699571</td></tr>\n",
       "\t<tr><td>05:00:00 </td><td>43.869099</td></tr>\n",
       "</tbody>\n",
       "</table>\n"
      ],
      "text/latex": [
       "\\begin{tabular}{r|ll}\n",
       " Time & avg\\_step\\_total\\\\\n",
       "\\hline\n",
       "\t 00:00:00  & 42.188437\\\\\n",
       "\t 01:00:00  & 23.102894\\\\\n",
       "\t 02:00:00  & 17.110397\\\\\n",
       "\t 03:00:00  &  6.426581\\\\\n",
       "\t 04:00:00  & 12.699571\\\\\n",
       "\t 05:00:00  & 43.869099\\\\\n",
       "\\end{tabular}\n"
      ],
      "text/markdown": [
       "\n",
       "| Time | avg_step_total |\n",
       "|---|---|\n",
       "| 00:00:00  | 42.188437 |\n",
       "| 01:00:00  | 23.102894 |\n",
       "| 02:00:00  | 17.110397 |\n",
       "| 03:00:00  |  6.426581 |\n",
       "| 04:00:00  | 12.699571 |\n",
       "| 05:00:00  | 43.869099 |\n",
       "\n"
      ],
      "text/plain": [
       "  Time     avg_step_total\n",
       "1 00:00:00 42.188437     \n",
       "2 01:00:00 23.102894     \n",
       "3 02:00:00 17.110397     \n",
       "4 03:00:00  6.426581     \n",
       "5 04:00:00 12.699571     \n",
       "6 05:00:00 43.869099     "
      ]
     },
     "metadata": {},
     "output_type": "display_data"
    }
   ],
   "source": [
    "hourly_steps2 <- hourly_steps %>% \n",
    "    group_by(Time) %>%     summarize(avg_step_total = mean(StepTotal))\n",
    "head(hourly_steps2)"
   ]
  },
  {
   "cell_type": "markdown",
   "id": "f4f4d7c7",
   "metadata": {},
   "source": [
    "- The 3 most taken step is 17:00 to 19:00\n",
    "- It can imply that user wear smart device during way back home or do some excercise after work time."
   ]
  },
  {
   "cell_type": "code",
   "execution_count": 32,
   "id": "c249ddfb",
   "metadata": {},
   "outputs": [
    {
     "data": {
      "image/png": "[encoded data removed]",
      "text/plain": [
       "plot without title"
      ]
     },
     "metadata": {},
     "output_type": "display_data"
    }
   ],
   "source": [
    "ggplot(hourly_steps2, aes(x = Time, y = avg_step_total)) + \n",
    "    geom_bar(stat = \"identity\", fill = \"steelblue\") +\n",
    "    geom_hline(yintercept = mean(hourly_steps2$avg_step_total), linetype=\"dashed\", color = \"red\") +\n",
    "    theme_bw() +\n",
    "    theme(axis.text.x = element_text(angle = 90)) +\n",
    "    labs(title = \"Steps Taken vs. Hours\", x = \"Time\", y = \"Total Steps\" )"
   ]
  },
  {
   "cell_type": "code",
   "execution_count": 33,
   "id": "c3ef9e52",
   "metadata": {},
   "outputs": [
    {
     "data": {
      "text/html": [
       "<table>\n",
       "<thead><tr><th scope=col>Id</th><th scope=col>ActivityHour</th><th scope=col>Calories</th><th scope=col>Date</th><th scope=col>Time</th><th scope=col>Weekday</th></tr></thead>\n",
       "<tbody>\n",
       "\t<tr><td>1503960366           </td><td>4/12/2016 12:00:00 AM</td><td>81                   </td><td>2016-04-12           </td><td>00:00:00             </td><td>Tuesday              </td></tr>\n",
       "\t<tr><td>1503960366           </td><td>4/12/2016 1:00:00 AM </td><td>61                   </td><td>2016-04-12           </td><td>01:00:00             </td><td>Tuesday              </td></tr>\n",
       "\t<tr><td>1503960366           </td><td>4/12/2016 2:00:00 AM </td><td>59                   </td><td>2016-04-12           </td><td>02:00:00             </td><td>Tuesday              </td></tr>\n",
       "\t<tr><td>1503960366           </td><td>4/12/2016 3:00:00 AM </td><td>47                   </td><td>2016-04-12           </td><td>03:00:00             </td><td>Tuesday              </td></tr>\n",
       "\t<tr><td>1503960366           </td><td>4/12/2016 4:00:00 AM </td><td>48                   </td><td>2016-04-12           </td><td>04:00:00             </td><td>Tuesday              </td></tr>\n",
       "\t<tr><td>1503960366           </td><td>4/12/2016 5:00:00 AM </td><td>48                   </td><td>2016-04-12           </td><td>05:00:00             </td><td>Tuesday              </td></tr>\n",
       "</tbody>\n",
       "</table>\n"
      ],
      "text/latex": [
       "\\begin{tabular}{r|llllll}\n",
       " Id & ActivityHour & Calories & Date & Time & Weekday\\\\\n",
       "\\hline\n",
       "\t 1503960366            & 4/12/2016 12:00:00 AM & 81                    & 2016-04-12            & 00:00:00              & Tuesday              \\\\\n",
       "\t 1503960366            & 4/12/2016 1:00:00 AM  & 61                    & 2016-04-12            & 01:00:00              & Tuesday              \\\\\n",
       "\t 1503960366            & 4/12/2016 2:00:00 AM  & 59                    & 2016-04-12            & 02:00:00              & Tuesday              \\\\\n",
       "\t 1503960366            & 4/12/2016 3:00:00 AM  & 47                    & 2016-04-12            & 03:00:00              & Tuesday              \\\\\n",
       "\t 1503960366            & 4/12/2016 4:00:00 AM  & 48                    & 2016-04-12            & 04:00:00              & Tuesday              \\\\\n",
       "\t 1503960366            & 4/12/2016 5:00:00 AM  & 48                    & 2016-04-12            & 05:00:00              & Tuesday              \\\\\n",
       "\\end{tabular}\n"
      ],
      "text/markdown": [
       "\n",
       "| Id | ActivityHour | Calories | Date | Time | Weekday |\n",
       "|---|---|---|---|---|---|\n",
       "| 1503960366            | 4/12/2016 12:00:00 AM | 81                    | 2016-04-12            | 00:00:00              | Tuesday               |\n",
       "| 1503960366            | 4/12/2016 1:00:00 AM  | 61                    | 2016-04-12            | 01:00:00              | Tuesday               |\n",
       "| 1503960366            | 4/12/2016 2:00:00 AM  | 59                    | 2016-04-12            | 02:00:00              | Tuesday               |\n",
       "| 1503960366            | 4/12/2016 3:00:00 AM  | 47                    | 2016-04-12            | 03:00:00              | Tuesday               |\n",
       "| 1503960366            | 4/12/2016 4:00:00 AM  | 48                    | 2016-04-12            | 04:00:00              | Tuesday               |\n",
       "| 1503960366            | 4/12/2016 5:00:00 AM  | 48                    | 2016-04-12            | 05:00:00              | Tuesday               |\n",
       "\n"
      ],
      "text/plain": [
       "  Id         ActivityHour          Calories Date       Time     Weekday\n",
       "1 1503960366 4/12/2016 12:00:00 AM 81       2016-04-12 00:00:00 Tuesday\n",
       "2 1503960366 4/12/2016 1:00:00 AM  61       2016-04-12 01:00:00 Tuesday\n",
       "3 1503960366 4/12/2016 2:00:00 AM  59       2016-04-12 02:00:00 Tuesday\n",
       "4 1503960366 4/12/2016 3:00:00 AM  47       2016-04-12 03:00:00 Tuesday\n",
       "5 1503960366 4/12/2016 4:00:00 AM  48       2016-04-12 04:00:00 Tuesday\n",
       "6 1503960366 4/12/2016 5:00:00 AM  48       2016-04-12 05:00:00 Tuesday"
      ]
     },
     "metadata": {},
     "output_type": "display_data"
    }
   ],
   "source": [
    "head(hourly_calories)"
   ]
  },
  {
   "cell_type": "code",
   "execution_count": 34,
   "id": "a9ef466c",
   "metadata": {},
   "outputs": [
    {
     "data": {
      "text/html": [
       "<table>\n",
       "<thead><tr><th scope=col>Time</th><th scope=col>avg_intensities</th></tr></thead>\n",
       "<tbody>\n",
       "\t<tr><td>00:00:00   </td><td>0.035492524</td></tr>\n",
       "\t<tr><td>01:00:00   </td><td>0.023651328</td></tr>\n",
       "\t<tr><td>02:00:00   </td><td>0.017399091</td></tr>\n",
       "\t<tr><td>03:00:00   </td><td>0.007395519</td></tr>\n",
       "\t<tr><td>04:00:00   </td><td>0.010550802</td></tr>\n",
       "\t<tr><td>05:00:00   </td><td>0.082510751</td></tr>\n",
       "</tbody>\n",
       "</table>\n"
      ],
      "text/latex": [
       "\\begin{tabular}{r|ll}\n",
       " Time & avg\\_intensities\\\\\n",
       "\\hline\n",
       "\t 00:00:00    & 0.035492524\\\\\n",
       "\t 01:00:00    & 0.023651328\\\\\n",
       "\t 02:00:00    & 0.017399091\\\\\n",
       "\t 03:00:00    & 0.007395519\\\\\n",
       "\t 04:00:00    & 0.010550802\\\\\n",
       "\t 05:00:00    & 0.082510751\\\\\n",
       "\\end{tabular}\n"
      ],
      "text/markdown": [
       "\n",
       "| Time | avg_intensities |\n",
       "|---|---|\n",
       "| 00:00:00    | 0.035492524 |\n",
       "| 01:00:00    | 0.023651328 |\n",
       "| 02:00:00    | 0.017399091 |\n",
       "| 03:00:00    | 0.007395519 |\n",
       "| 04:00:00    | 0.010550802 |\n",
       "| 05:00:00    | 0.082510751 |\n",
       "\n"
      ],
      "text/plain": [
       "  Time     avg_intensities\n",
       "1 00:00:00 0.035492524    \n",
       "2 01:00:00 0.023651328    \n",
       "3 02:00:00 0.017399091    \n",
       "4 03:00:00 0.007395519    \n",
       "5 04:00:00 0.010550802    \n",
       "6 05:00:00 0.082510751    "
      ]
     },
     "metadata": {},
     "output_type": "display_data"
    }
   ],
   "source": [
    "hourly_intensities2 <- hourly_intensities %>% \n",
    "    group_by(Time) %>%     summarize(avg_intensities = mean(AverageIntensity))\n",
    "head(hourly_intensities2)"
   ]
  },
  {
   "cell_type": "markdown",
   "id": "3b7d63ca",
   "metadata": {},
   "source": [
    "- Same trend like step walk, this means two data have corelation"
   ]
  },
  {
   "cell_type": "code",
   "execution_count": 35,
   "id": "f1f03239",
   "metadata": {},
   "outputs": [
    {
     "data": {
      "image/png": "[encoded data removed]",
      "text/plain": [
       "plot without title"
      ]
     },
     "metadata": {},
     "output_type": "display_data"
    }
   ],
   "source": [
    "ggplot(hourly_intensities2, aes(x = Time, y = avg_intensities)) + \n",
    "    geom_bar(stat = \"identity\", fill = \"steelblue\") +\n",
    "    geom_hline(yintercept = mean(hourly_intensities2$avg_intensities), linetype=\"dashed\", color = \"red\") +\n",
    "    theme_bw() +\n",
    "    theme(axis.text.x = element_text(angle = 90)) +\n",
    "    labs(title = \"Intensities vs. Hours\", x = \"Time\", y = \"Intensities\" )"
   ]
  },
  {
   "cell_type": "code",
   "execution_count": 36,
   "id": "924b8f6e",
   "metadata": {},
   "outputs": [
    {
     "data": {
      "text/html": [
       "<table>\n",
       "<thead><tr><th scope=col>Time</th><th scope=col>avg_calories</th></tr></thead>\n",
       "<tbody>\n",
       "\t<tr><td>00:00:00</td><td>71.80514</td></tr>\n",
       "\t<tr><td>01:00:00</td><td>70.16506</td></tr>\n",
       "\t<tr><td>02:00:00</td><td>69.18650</td></tr>\n",
       "\t<tr><td>03:00:00</td><td>67.53805</td></tr>\n",
       "\t<tr><td>04:00:00</td><td>68.26180</td></tr>\n",
       "\t<tr><td>05:00:00</td><td>81.70815</td></tr>\n",
       "</tbody>\n",
       "</table>\n"
      ],
      "text/latex": [
       "\\begin{tabular}{r|ll}\n",
       " Time & avg\\_calories\\\\\n",
       "\\hline\n",
       "\t 00:00:00 & 71.80514\\\\\n",
       "\t 01:00:00 & 70.16506\\\\\n",
       "\t 02:00:00 & 69.18650\\\\\n",
       "\t 03:00:00 & 67.53805\\\\\n",
       "\t 04:00:00 & 68.26180\\\\\n",
       "\t 05:00:00 & 81.70815\\\\\n",
       "\\end{tabular}\n"
      ],
      "text/markdown": [
       "\n",
       "| Time | avg_calories |\n",
       "|---|---|\n",
       "| 00:00:00 | 71.80514 |\n",
       "| 01:00:00 | 70.16506 |\n",
       "| 02:00:00 | 69.18650 |\n",
       "| 03:00:00 | 67.53805 |\n",
       "| 04:00:00 | 68.26180 |\n",
       "| 05:00:00 | 81.70815 |\n",
       "\n"
      ],
      "text/plain": [
       "  Time     avg_calories\n",
       "1 00:00:00 71.80514    \n",
       "2 01:00:00 70.16506    \n",
       "3 02:00:00 69.18650    \n",
       "4 03:00:00 67.53805    \n",
       "5 04:00:00 68.26180    \n",
       "6 05:00:00 81.70815    "
      ]
     },
     "metadata": {},
     "output_type": "display_data"
    }
   ],
   "source": [
    "hourly_calories2 <- hourly_calories %>% \n",
    "    group_by(Time) %>%     summarize(avg_calories = mean(Calories))\n",
    "head(hourly_calories2)"
   ]
  },
  {
   "cell_type": "markdown",
   "id": "84d40140",
   "metadata": {},
   "source": [
    "- This data also correlate with walking step"
   ]
  },
  {
   "cell_type": "code",
   "execution_count": 37,
   "id": "c016778b",
   "metadata": {},
   "outputs": [
    {
     "data": {
      "image/png": "[encoded data removed]",
      "text/plain": [
       "plot without title"
      ]
     },
     "metadata": {},
     "output_type": "display_data"
    }
   ],
   "source": [
    "ggplot(hourly_calories2, aes(x = Time, y = avg_calories)) + \n",
    "    geom_bar(stat = \"identity\", fill = \"steelblue\") +\n",
    "    geom_hline(yintercept = mean(hourly_calories2$avg_calories), linetype=\"dashed\", color = \"red\") +\n",
    "    theme_bw() +\n",
    "    theme(axis.text.x = element_text(angle = 90)) +\n",
    "    labs(title = \"Calories burned vs. Hours\", x = \"Time\", y = \"kcal\" )"
   ]
  },
  {
   "cell_type": "markdown",
   "id": "e3442d3b",
   "metadata": {},
   "source": [
    "- To cross check, the stps and calories burned have positive corelation like we known."
   ]
  },
  {
   "cell_type": "code",
   "execution_count": 38,
   "id": "85667c87",
   "metadata": {},
   "outputs": [
    {
     "name": "stderr",
     "output_type": "stream",
     "text": [
      "`geom_smooth()` using method = 'loess' and formula 'y ~ x'\n"
     ]
    },
    {
     "data": {
      "image/png": "[encoded data removed]",
      "text/plain": [
       "plot without title"
      ]
     },
     "metadata": {},
     "output_type": "display_data"
    }
   ],
   "source": [
    "ggplot(data = daily_activity, aes(x = TotalSteps, y = Calories)) + geom_point() + geom_smooth() + labs(title = \"Total Steps vs. Calories\")"
   ]
  },
  {
   "cell_type": "markdown",
   "id": "0be92046",
   "metadata": {},
   "source": [
    "# #2.6 Act "
   ]
  },
  {
   "cell_type": "markdown",
   "id": "0f1e8975",
   "metadata": {},
   "source": [
    "After analyzing the given data, the fitbit fitness tracker from 30 users, I can summarize and give the recomendation following by:<br>\n",
    "1. Average taken step per day is around 7638 steps that below the recomedation from CDC which recomend to walk 8000 step or more, Bellabeat may notify user to go to walk inorder to reach the minimum goal.\n",
    "2. The majority of sample is sedentary, Bellabeat shoud alert the user to be more active during the day.\n",
    "3. The data from fitbit didn't show sleep state in hour, Bellabeat should provide sleep state and sleep quality to user and help them change their behavior to increase slepp quality\n",
    "4. On application, Bellabeat should give some suggestion about the meal that match the calories their burned\n",
    "5. Bellabeat should provide some campagne to trig the user to walk more step other than Saturday\n"
   ]
  },
  {
   "cell_type": "code",
   "execution_count": null,
   "id": "b1895c93",
   "metadata": {},
   "outputs": [],
   "source": []
  }
 ],
 "metadata": {
  "kernelspec": {
   "display_name": "R",
   "language": "R",
   "name": "ir"
  },
  "language_info": {
   "codemirror_mode": "r",
   "file_extension": ".r",
   "mimetype": "text/x-r-source",
   "name": "R",
   "pygments_lexer": "r",
   "version": "3.6.1"
  }
 },
 "nbformat": 4,
 "nbformat_minor": 5
}
